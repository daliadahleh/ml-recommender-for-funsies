{
 "cells": [
  {
   "cell_type": "markdown",
   "metadata": {
    "collapsed": true
   },
   "source": [
    "# Recommender for MovieLens"
   ]
  },
  {
   "cell_type": "markdown",
   "metadata": {},
   "source": [
    "### Getting MovieLens data"
   ]
  },
  {
   "cell_type": "code",
   "execution_count": 32,
   "metadata": {
    "collapsed": false
   },
   "outputs": [
    {
     "name": "stdout",
     "output_type": "stream",
     "text": [
      "Archive:  /resources/data/ml-100k.zip\n",
      "replace /resources/data/ml-100k/allbut.pl? [y]es, [n]o, [A]ll, [N]one, [r]ename: ^C\n"
     ]
    }
   ],
   "source": [
    "!unzip /resources/data/ml-100k.zip -d /resources/data"
   ]
  },
  {
   "cell_type": "markdown",
   "metadata": {},
   "source": [
    "### Building the recommender"
   ]
  },
  {
   "cell_type": "code",
   "execution_count": 3,
   "metadata": {
    "collapsed": false
   },
   "outputs": [],
   "source": [
    "# import required libraries\n",
    "import numpy as np\n",
    "import pandas as pd\n",
    "from sklearn.metrics.pairwise import pairwise_distances\n",
    "from heapq import nlargest\n",
    "from sklearn.metrics import mean_squared_error\n",
    "from math import sqrt\n",
    "import os.path"
   ]
  },
  {
   "cell_type": "code",
   "execution_count": 7,
   "metadata": {
    "collapsed": true
   },
   "outputs": [],
   "source": [
    "# define constant for movie lends 100K directory\n",
    "MOVIELENS_DIR = \"/resources/data/ml-100k/\""
   ]
  },
  {
   "cell_type": "markdown",
   "metadata": {},
   "source": [
    "## Loading the data"
   ]
  },
  {
   "cell_type": "markdown",
   "metadata": {},
   "source": [
    "First, we inspect the directory content"
   ]
  },
  {
   "cell_type": "code",
   "execution_count": 8,
   "metadata": {
    "collapsed": false
   },
   "outputs": [
    {
     "name": "stdout",
     "output_type": "stream",
     "text": [
      "allbut.pl  u1.base  u2.test  u4.base  u5.test  ub.base\tu.genre  u.occupation\r\n",
      "mku.sh\t   u1.test  u3.base  u4.test  ua.base  ub.test\tu.info\t u.user\r\n",
      "README\t   u2.base  u3.test  u5.base  ua.test  u.data\tu.item\r\n"
     ]
    }
   ],
   "source": [
    "!ls $MOVIELENS_DIR"
   ]
  },
  {
   "cell_type": "markdown",
   "metadata": {},
   "source": [
    "We then load the full MovieLens 100K dataset to find the number of users and items"
   ]
  },
  {
   "cell_type": "code",
   "execution_count": 9,
   "metadata": {
    "collapsed": false
   },
   "outputs": [
    {
     "data": {
      "text/html": [
       "<div>\n",
       "<table border=\"1\" class=\"dataframe\">\n",
       "  <thead>\n",
       "    <tr style=\"text-align: right;\">\n",
       "      <th></th>\n",
       "      <th>userID</th>\n",
       "      <th>itemID</th>\n",
       "      <th>rating</th>\n",
       "      <th>timestamp</th>\n",
       "    </tr>\n",
       "  </thead>\n",
       "  <tbody>\n",
       "    <tr>\n",
       "      <th>0</th>\n",
       "      <td>196</td>\n",
       "      <td>242</td>\n",
       "      <td>3</td>\n",
       "      <td>881250949</td>\n",
       "    </tr>\n",
       "    <tr>\n",
       "      <th>1</th>\n",
       "      <td>186</td>\n",
       "      <td>302</td>\n",
       "      <td>3</td>\n",
       "      <td>891717742</td>\n",
       "    </tr>\n",
       "    <tr>\n",
       "      <th>2</th>\n",
       "      <td>22</td>\n",
       "      <td>377</td>\n",
       "      <td>1</td>\n",
       "      <td>878887116</td>\n",
       "    </tr>\n",
       "    <tr>\n",
       "      <th>3</th>\n",
       "      <td>244</td>\n",
       "      <td>51</td>\n",
       "      <td>2</td>\n",
       "      <td>880606923</td>\n",
       "    </tr>\n",
       "    <tr>\n",
       "      <th>4</th>\n",
       "      <td>166</td>\n",
       "      <td>346</td>\n",
       "      <td>1</td>\n",
       "      <td>886397596</td>\n",
       "    </tr>\n",
       "  </tbody>\n",
       "</table>\n",
       "</div>"
      ],
      "text/plain": [
       "   userID  itemID  rating  timestamp\n",
       "0     196     242       3  881250949\n",
       "1     186     302       3  891717742\n",
       "2      22     377       1  878887116\n",
       "3     244      51       2  880606923\n",
       "4     166     346       1  886397596"
      ]
     },
     "execution_count": 9,
     "metadata": {},
     "output_type": "execute_result"
    }
   ],
   "source": [
    "fields = ['userID', 'itemID', 'rating', 'timestamp']\n",
    "ratingDF = pd.read_csv(os.path.join(MOVIELENS_DIR, 'u.data'), sep='\\t', names=fields)\n",
    "\n",
    "ratingDF.head()"
   ]
  },
  {
   "cell_type": "code",
   "execution_count": 10,
   "metadata": {
    "collapsed": false
   },
   "outputs": [
    {
     "name": "stdout",
     "output_type": "stream",
     "text": [
      "Number of users: 943\n",
      "Number of items: 1682\n"
     ]
    }
   ],
   "source": [
    "numUsers = len(ratingDF.userID.unique())\n",
    "numItems = len(ratingDF.itemID.unique())\n",
    "\n",
    "print(\"Number of users:\", numUsers)\n",
    "print(\"Number of items:\", numItems)"
   ]
  },
  {
   "cell_type": "code",
   "execution_count": 11,
   "metadata": {
    "collapsed": false
   },
   "outputs": [
    {
     "data": {
      "text/html": [
       "<div>\n",
       "<table border=\"1\" class=\"dataframe\">\n",
       "  <thead>\n",
       "    <tr style=\"text-align: right;\">\n",
       "      <th></th>\n",
       "      <th>movieID</th>\n",
       "      <th>movieTitle</th>\n",
       "      <th>releaseDate</th>\n",
       "      <th>videoReleaseDate</th>\n",
       "      <th>IMDbURL</th>\n",
       "      <th>unknown</th>\n",
       "      <th>action</th>\n",
       "      <th>adventure</th>\n",
       "      <th>animation</th>\n",
       "      <th>childrens</th>\n",
       "      <th>...</th>\n",
       "      <th>fantasy</th>\n",
       "      <th>filmNoir</th>\n",
       "      <th>horror</th>\n",
       "      <th>musical</th>\n",
       "      <th>mystery</th>\n",
       "      <th>romance</th>\n",
       "      <th>sciFi</th>\n",
       "      <th>thriller</th>\n",
       "      <th>war</th>\n",
       "      <th>western</th>\n",
       "    </tr>\n",
       "  </thead>\n",
       "  <tbody>\n",
       "    <tr>\n",
       "      <th>0</th>\n",
       "      <td>1</td>\n",
       "      <td>Toy Story (1995)</td>\n",
       "      <td>01-Jan-1995</td>\n",
       "      <td>NaN</td>\n",
       "      <td>http://us.imdb.com/M/title-exact?Toy%20Story%2...</td>\n",
       "      <td>0</td>\n",
       "      <td>0</td>\n",
       "      <td>0</td>\n",
       "      <td>1</td>\n",
       "      <td>1</td>\n",
       "      <td>...</td>\n",
       "      <td>0</td>\n",
       "      <td>0</td>\n",
       "      <td>0</td>\n",
       "      <td>0</td>\n",
       "      <td>0</td>\n",
       "      <td>0</td>\n",
       "      <td>0</td>\n",
       "      <td>0</td>\n",
       "      <td>0</td>\n",
       "      <td>0</td>\n",
       "    </tr>\n",
       "    <tr>\n",
       "      <th>1</th>\n",
       "      <td>2</td>\n",
       "      <td>GoldenEye (1995)</td>\n",
       "      <td>01-Jan-1995</td>\n",
       "      <td>NaN</td>\n",
       "      <td>http://us.imdb.com/M/title-exact?GoldenEye%20(...</td>\n",
       "      <td>0</td>\n",
       "      <td>1</td>\n",
       "      <td>1</td>\n",
       "      <td>0</td>\n",
       "      <td>0</td>\n",
       "      <td>...</td>\n",
       "      <td>0</td>\n",
       "      <td>0</td>\n",
       "      <td>0</td>\n",
       "      <td>0</td>\n",
       "      <td>0</td>\n",
       "      <td>0</td>\n",
       "      <td>0</td>\n",
       "      <td>1</td>\n",
       "      <td>0</td>\n",
       "      <td>0</td>\n",
       "    </tr>\n",
       "    <tr>\n",
       "      <th>2</th>\n",
       "      <td>3</td>\n",
       "      <td>Four Rooms (1995)</td>\n",
       "      <td>01-Jan-1995</td>\n",
       "      <td>NaN</td>\n",
       "      <td>http://us.imdb.com/M/title-exact?Four%20Rooms%...</td>\n",
       "      <td>0</td>\n",
       "      <td>0</td>\n",
       "      <td>0</td>\n",
       "      <td>0</td>\n",
       "      <td>0</td>\n",
       "      <td>...</td>\n",
       "      <td>0</td>\n",
       "      <td>0</td>\n",
       "      <td>0</td>\n",
       "      <td>0</td>\n",
       "      <td>0</td>\n",
       "      <td>0</td>\n",
       "      <td>0</td>\n",
       "      <td>1</td>\n",
       "      <td>0</td>\n",
       "      <td>0</td>\n",
       "    </tr>\n",
       "    <tr>\n",
       "      <th>3</th>\n",
       "      <td>4</td>\n",
       "      <td>Get Shorty (1995)</td>\n",
       "      <td>01-Jan-1995</td>\n",
       "      <td>NaN</td>\n",
       "      <td>http://us.imdb.com/M/title-exact?Get%20Shorty%...</td>\n",
       "      <td>0</td>\n",
       "      <td>1</td>\n",
       "      <td>0</td>\n",
       "      <td>0</td>\n",
       "      <td>0</td>\n",
       "      <td>...</td>\n",
       "      <td>0</td>\n",
       "      <td>0</td>\n",
       "      <td>0</td>\n",
       "      <td>0</td>\n",
       "      <td>0</td>\n",
       "      <td>0</td>\n",
       "      <td>0</td>\n",
       "      <td>0</td>\n",
       "      <td>0</td>\n",
       "      <td>0</td>\n",
       "    </tr>\n",
       "    <tr>\n",
       "      <th>4</th>\n",
       "      <td>5</td>\n",
       "      <td>Copycat (1995)</td>\n",
       "      <td>01-Jan-1995</td>\n",
       "      <td>NaN</td>\n",
       "      <td>http://us.imdb.com/M/title-exact?Copycat%20(1995)</td>\n",
       "      <td>0</td>\n",
       "      <td>0</td>\n",
       "      <td>0</td>\n",
       "      <td>0</td>\n",
       "      <td>0</td>\n",
       "      <td>...</td>\n",
       "      <td>0</td>\n",
       "      <td>0</td>\n",
       "      <td>0</td>\n",
       "      <td>0</td>\n",
       "      <td>0</td>\n",
       "      <td>0</td>\n",
       "      <td>0</td>\n",
       "      <td>1</td>\n",
       "      <td>0</td>\n",
       "      <td>0</td>\n",
       "    </tr>\n",
       "  </tbody>\n",
       "</table>\n",
       "<p>5 rows × 24 columns</p>\n",
       "</div>"
      ],
      "text/plain": [
       "   movieID         movieTitle  releaseDate  videoReleaseDate  \\\n",
       "0        1   Toy Story (1995)  01-Jan-1995               NaN   \n",
       "1        2   GoldenEye (1995)  01-Jan-1995               NaN   \n",
       "2        3  Four Rooms (1995)  01-Jan-1995               NaN   \n",
       "3        4  Get Shorty (1995)  01-Jan-1995               NaN   \n",
       "4        5     Copycat (1995)  01-Jan-1995               NaN   \n",
       "\n",
       "                                             IMDbURL  unknown  action  \\\n",
       "0  http://us.imdb.com/M/title-exact?Toy%20Story%2...        0       0   \n",
       "1  http://us.imdb.com/M/title-exact?GoldenEye%20(...        0       1   \n",
       "2  http://us.imdb.com/M/title-exact?Four%20Rooms%...        0       0   \n",
       "3  http://us.imdb.com/M/title-exact?Get%20Shorty%...        0       1   \n",
       "4  http://us.imdb.com/M/title-exact?Copycat%20(1995)        0       0   \n",
       "\n",
       "   adventure  animation  childrens   ...     fantasy  filmNoir  horror  \\\n",
       "0          0          1          1   ...           0         0       0   \n",
       "1          1          0          0   ...           0         0       0   \n",
       "2          0          0          0   ...           0         0       0   \n",
       "3          0          0          0   ...           0         0       0   \n",
       "4          0          0          0   ...           0         0       0   \n",
       "\n",
       "   musical  mystery  romance  sciFi  thriller  war  western  \n",
       "0        0        0        0      0         0    0        0  \n",
       "1        0        0        0      0         1    0        0  \n",
       "2        0        0        0      0         1    0        0  \n",
       "3        0        0        0      0         0    0        0  \n",
       "4        0        0        0      0         1    0        0  \n",
       "\n",
       "[5 rows x 24 columns]"
      ]
     },
     "execution_count": 11,
     "metadata": {},
     "output_type": "execute_result"
    }
   ],
   "source": [
    "fieldsMovies = ['movieID', 'movieTitle', 'releaseDate', 'videoReleaseDate', 'IMDbURL', 'unknown', 'action', 'adventure',\n",
    "          'animation', 'childrens', 'comedy', 'crime', 'documentary', 'drama', 'fantasy', 'filmNoir', 'horror',\n",
    "          'musical', 'mystery', 'romance','sciFi', 'thriller', 'war', 'western']\n",
    "moviesDF = pd.read_csv(os.path.join(MOVIELENS_DIR, 'u.item'), sep='|', names=fieldsMovies, encoding='latin-1')\n",
    "\n",
    "moviesDF.head()"
   ]
  },
  {
   "cell_type": "markdown",
   "metadata": {},
   "source": [
    "Then, we load a train-test split"
   ]
  },
  {
   "cell_type": "code",
   "execution_count": 12,
   "metadata": {
    "collapsed": false
   },
   "outputs": [
    {
     "name": "stdout",
     "output_type": "stream",
     "text": [
      "# of lines in train: 80000\n",
      "# of lines in test: 20000\n"
     ]
    }
   ],
   "source": [
    "trainDF = pd.read_csv(os.path.join(MOVIELENS_DIR, 'u1.base'), sep='\\t', names=fields)\n",
    "testDF = pd.read_csv(os.path.join(MOVIELENS_DIR, 'u1.test'), sep='\\t', names=fields)\n",
    "\n",
    "# test number of records (total should be 100K)\n",
    "print(\"# of lines in train:\", trainDF.shape[0])\n",
    "print(\"# of lines in test:\", testDF.shape[0])"
   ]
  },
  {
   "cell_type": "markdown",
   "metadata": {},
   "source": [
    "## Building User-to-Item Rating Matrix"
   ]
  },
  {
   "cell_type": "code",
   "execution_count": 13,
   "metadata": {
    "collapsed": true
   },
   "outputs": [],
   "source": [
    "def buildUserItemMatrix(dataset, numUsers, numItems):\n",
    "    # Initialize a of size (numUsers, numItems) to zeros\n",
    "    matrix = np.zeros((numUsers, numItems), dtype=np.int8)\n",
    "    \n",
    "    # Populate the matrix based on the dataset\n",
    "    for (index, userID, itemID, rating, timestamp) in dataset.itertuples():\n",
    "        matrix[userID-1, itemID-1] = rating\n",
    "    return matrix"
   ]
  },
  {
   "cell_type": "code",
   "execution_count": 14,
   "metadata": {
    "collapsed": false
   },
   "outputs": [],
   "source": [
    "trainUserItemMatrix = buildUserItemMatrix(trainDF, numUsers, numItems)\n",
    "testUserItemMatrix = buildUserItemMatrix(testDF, numUsers, numItems)"
   ]
  },
  {
   "cell_type": "code",
   "execution_count": 15,
   "metadata": {
    "collapsed": false
   },
   "outputs": [
    {
     "data": {
      "text/plain": [
       "array([[5, 3, 4, ..., 0, 0, 0],\n",
       "       [4, 0, 0, ..., 0, 0, 0],\n",
       "       [0, 0, 0, ..., 0, 0, 0],\n",
       "       ..., \n",
       "       [5, 0, 0, ..., 0, 0, 0],\n",
       "       [0, 0, 0, ..., 0, 0, 0],\n",
       "       [0, 5, 0, ..., 0, 0, 0]], dtype=int8)"
      ]
     },
     "execution_count": 15,
     "metadata": {},
     "output_type": "execute_result"
    }
   ],
   "source": [
    "# Inspect the train matrix\n",
    "trainUserItemMatrix"
   ]
  },
  {
   "cell_type": "markdown",
   "metadata": {},
   "source": [
    "## Baseline solution - Average User Rating"
   ]
  },
  {
   "cell_type": "code",
   "execution_count": 77,
   "metadata": {
    "collapsed": true
   },
   "outputs": [],
   "source": [
    "def predictByUserAverage(trainSet, numUsers, numItems):\n",
    "    # Initialize the predicted rating matrix with zeros\n",
    "    predictionMatrix = np.zeros((numUsers, numItems))\n",
    "    \n",
    "    for (user,item), rating in np.ndenumerate(trainSet):\n",
    "        # Predict rating for every item that wasn't ranked by the user (rating == 0)\n",
    "        if rating == 0:\n",
    "            # Extract the items the user already rated\n",
    "            userVector = trainSet[user, :]\n",
    "            ratedItems = userVector[userVector.nonzero()]\n",
    "            \n",
    "            # If not empty, calculate average and set as rating for the current item\n",
    "            if ratedItems.size == 0:\n",
    "                itemAvg = 0\n",
    "            else:\n",
    "                itemAvg = ratedItems.mean()\n",
    "            predictionMatrix[user, item] = itemAvg\n",
    "            \n",
    "        # report progress every 100 users\n",
    "        if (user % 100 == 0 and item == 1):\n",
    "            print (\"calculated %d users\" % (user,))\n",
    "    \n",
    "    return predictionMatrix"
   ]
  },
  {
   "cell_type": "code",
   "execution_count": 78,
   "metadata": {
    "collapsed": false
   },
   "outputs": [
    {
     "name": "stdout",
     "output_type": "stream",
     "text": [
      "calculated 0 users\n",
      "calculated 100 users\n",
      "calculated 200 users\n",
      "calculated 300 users\n",
      "calculated 400 users\n",
      "calculated 500 users\n",
      "calculated 600 users\n",
      "calculated 700 users\n",
      "calculated 800 users\n",
      "calculated 900 users\n"
     ]
    }
   ],
   "source": [
    "userAvgPrediction = predictByUserAverage(trainUserItemMatrix, numUsers, numItems)"
   ]
  },
  {
   "cell_type": "markdown",
   "metadata": {},
   "source": [
    "## How well did we do?"
   ]
  },
  {
   "cell_type": "code",
   "execution_count": 79,
   "metadata": {
    "collapsed": true
   },
   "outputs": [],
   "source": [
    "def rmse(pred, test):\n",
    "    # calculate RMSE for all the items in the test dataset\n",
    "    predItems = pred[test.nonzero()].flatten() \n",
    "    testItems = test[test.nonzero()].flatten()\n",
    "    return sqrt(mean_squared_error(predItems, testItems))"
   ]
  },
  {
   "cell_type": "code",
   "execution_count": null,
   "metadata": {
    "collapsed": false
   },
   "outputs": [],
   "source": []
  },
  {
   "cell_type": "markdown",
   "metadata": {},
   "source": [
    "## User-User Similarity"
   ]
  },
  {
   "cell_type": "code",
   "execution_count": 51,
   "metadata": {
    "collapsed": true
   },
   "outputs": [],
   "source": [
    "userSimilarity = 1 - pairwise_distances(trainUserItemMatrix, metric='cosine')"
   ]
  },
  {
   "cell_type": "code",
   "execution_count": 52,
   "metadata": {
    "collapsed": true
   },
   "outputs": [],
   "source": [
    "def predictByUserSimilarity(trainSet, numUsers, numItems, similarity):\n",
    "    # Initialize the predicted rating matrix with zeros\n",
    "    predictionMatrix = np.zeros((numUsers, numItems))\n",
    "    \n",
    "    for (user,item), rating in np.ndenumerate(trainSet):\n",
    "        # Predict rating for every item that wasn't ranked by the user (rating == 0)\n",
    "        if rating == 0:\n",
    "            # Extract the users that provided rating for this item\n",
    "            itemVector = trainSet[:,item]\n",
    "            usersRatings = itemVector[itemVector.nonzero()]\n",
    "            \n",
    "            # Get the similarity score for each of the users that provided rating for this item\n",
    "            usersSim = similarity[user,:][itemVector.nonzero()]\n",
    "            \n",
    "            # If there no users that ranked this item, use user's average\n",
    "            if len(usersSim) == 0:\n",
    "                userVector = trainSet[user, :]\n",
    "                ratedItems = userVector[userVector.nonzero()]\n",
    "                \n",
    "                # If the user didnt rated any item use 0, otherwise use average\n",
    "                if len(ratedItems) == 0:\n",
    "                    predictionMatrix[user,item] = 0\n",
    "                else:\n",
    "                    predictionMatrix[user,item] = ratedItems.mean()\n",
    "            else:\n",
    "                # predict score based on user-user similarity\n",
    "                predictionMatrix[user,item] = (usersRatings*usersSim).sum() / usersSim.sum()\n",
    "        \n",
    "        # report progress every 100 users\n",
    "        if (user % 100 == 0 and item == 1):\n",
    "            print (\"calculated %d users\" % (user,))\n",
    "    \n",
    "    return predictionMatrix"
   ]
  },
  {
   "cell_type": "code",
   "execution_count": 53,
   "metadata": {
    "collapsed": false
   },
   "outputs": [
    {
     "name": "stdout",
     "output_type": "stream",
     "text": [
      "calculated 0 users\n",
      "calculated 100 users\n",
      "calculated 200 users\n",
      "calculated 300 users\n",
      "calculated 400 users\n",
      "calculated 500 users\n",
      "calculated 600 users\n",
      "calculated 700 users\n",
      "calculated 800 users\n",
      "calculated 900 users\n"
     ]
    }
   ],
   "source": [
    "userSimPrediction = predictByUserSimilarity(trainUserItemMatrix, numUsers, numItems, userSimilarity)"
   ]
  },
  {
   "cell_type": "code",
   "execution_count": 84,
   "metadata": {
    "collapsed": false
   },
   "outputs": [
    {
     "data": {
      "text/plain": [
       "1.026449013124381"
      ]
     },
     "execution_count": 84,
     "metadata": {},
     "output_type": "execute_result"
    }
   ],
   "source": [
    "rmse(userSimPrediction, testUserItemMatrix)"
   ]
  },
  {
   "cell_type": "markdown",
   "metadata": {},
   "source": [
    "## Precision@k and Recall@k"
   ]
  },
  {
   "cell_type": "code",
   "execution_count": 85,
   "metadata": {
    "collapsed": true
   },
   "outputs": [],
   "source": [
    "def avgPrecisionAtK(testSet, prediction, k):\n",
    "    # Initialize sum and count vars for average calculation\n",
    "    sumPrecisions = 0\n",
    "    countPrecisions = 0\n",
    "    \n",
    "    # Define function for converting 1-5 rating to 0/1 (like / don't like)\n",
    "    vf = np.vectorize(lambda x: 1 if x >= 4 else 0)\n",
    "    \n",
    "    for userID in range(numUsers):\n",
    "        # Pick top K based on predicted rating\n",
    "        userVector = prediction[userID,:]\n",
    "        topK = nlargest(k, range(len(userVector)), userVector.take)\n",
    "        \n",
    "        # Convert test set ratings to like / don't like\n",
    "        userTestVector = vf(testSet[userID,:]).nonzero()[0]\n",
    "        \n",
    "        # Calculate precision\n",
    "        precision = len([item for item in topK if item in userTestVector])/len(topK)\n",
    "        \n",
    "        # Update sum and count\n",
    "        sumPrecisions += precision\n",
    "        countPrecisions += 1\n",
    "        \n",
    "    # Return average P@k\n",
    "    return sumPrecisions/countPrecisions"
   ]
  },
  {
   "cell_type": "code",
   "execution_count": 86,
   "metadata": {
    "collapsed": true
   },
   "outputs": [],
   "source": [
    "def avgRecallAtK(testSet, prediction, k):\n",
    "    # Initialize sum and count vars for average calculation\n",
    "    sumRecalls = 0\n",
    "    countRecalls = 0\n",
    "    \n",
    "    # Define function for converting 1-5 rating to 0/1 (like / don't like)\n",
    "    vf = np.vectorize(lambda x: 1 if x >= 4 else 0)\n",
    "    \n",
    "    for userID in range(numUsers):\n",
    "        # Pick top K based on predicted rating\n",
    "        userVector = prediction[userID,:]\n",
    "        topK = nlargest(k, range(len(userVector)), userVector.take)\n",
    "        \n",
    "        # Convert test set ratings to like / don't like\n",
    "        userTestVector = vf(testSet[userID,:]).nonzero()[0]\n",
    "        \n",
    "        # Ignore user if has no ratings in the test set\n",
    "        if (len(userTestVector) == 0):\n",
    "            continue\n",
    "        \n",
    "        # Calculate recall\n",
    "        recall = len([item for item in topK if item in userTestVector])/len(userTestVector)\n",
    "        \n",
    "        # Update sum and count\n",
    "        sumRecalls += recall\n",
    "        countRecalls += 1\n",
    "    \n",
    "    # Return average R@k\n",
    "    return sumRecalls/countRecalls"
   ]
  },
  {
   "cell_type": "code",
   "execution_count": 87,
   "metadata": {
    "collapsed": false
   },
   "outputs": [
    {
     "name": "stdout",
     "output_type": "stream",
     "text": [
      "k\tP@k\tR@k\n",
      "25\t0.020\t0.043\n",
      "50\t0.026\t0.110\n",
      "100\t0.024\t0.202\n",
      "250\t0.021\t0.398\n",
      "500\t0.017\t0.683\n"
     ]
    }
   ],
   "source": [
    "print(\"k\\tP@k\\tR@k\")\n",
    "for k in [25, 50, 100, 250, 500]:\n",
    "    print(\"%d\\t%.3lf\\t%.3lf\" % (k, avgPrecisionAtK(testUserItemMatrix, userSimPrediction, k), avgRecallAtK(testUserItemMatrix, userSimPrediction, k)))"
   ]
  },
  {
   "cell_type": "markdown",
   "metadata": {
    "collapsed": true
   },
   "source": [
    "## Popularity Based Recommendations"
   ]
  },
  {
   "cell_type": "code",
   "execution_count": 40,
   "metadata": {
    "collapsed": true
   },
   "outputs": [],
   "source": [
    "def predictByPopularity(trainSet, numUsers, numItems):\n",
    "    # Initialize the predicted rating matrix with zeros\n",
    "    predictionMatrix = np.zeros((numUsers, numItems))\n",
    "    \n",
    "    # Define function for converting 1-5 rating to 0/1 (like / don't like)\n",
    "    vf = np.vectorize(lambda x: 1 if x >= 4 else 0)\n",
    "    \n",
    "    # For every item calculate the number of people liked (4-5) divided by the number of people that rated\n",
    "    itemPopularity = np.zeros((numItems))\n",
    "    for item in range(numItems):\n",
    "        numOfUsersRated = len(trainSet[:, item].nonzero()[0])\n",
    "        numOfUsersLiked = len(vf(trainSet[:, item]).nonzero()[0])\n",
    "        if numOfUsersRated == 0:\n",
    "            itemPopularity[item] = 0\n",
    "        else:\n",
    "            itemPopularity[item] = numOfUsersLiked/numOfUsersRated\n",
    "    \n",
    "    for (user,item), rating in np.ndenumerate(trainSet):\n",
    "        # Predict rating for every item that wasn't ranked by the user (rating == 0)\n",
    "        if rating == 0:\n",
    "            predictionMatrix[user, item] = itemPopularity[item]\n",
    "            \n",
    "        # report progress every 100 users\n",
    "        if (user % 100 == 0 and item == 1):\n",
    "            print (\"calculated %d users\" % (user,))\n",
    "    \n",
    "    return predictionMatrix"
   ]
  },
  {
   "cell_type": "code",
   "execution_count": 41,
   "metadata": {
    "collapsed": false
   },
   "outputs": [
    {
     "name": "stdout",
     "output_type": "stream",
     "text": [
      "calculated 0 users\n",
      "calculated 100 users\n",
      "calculated 200 users\n",
      "calculated 300 users\n",
      "calculated 400 users\n",
      "calculated 500 users\n",
      "calculated 600 users\n",
      "calculated 700 users\n",
      "calculated 800 users\n",
      "calculated 900 users\n"
     ]
    }
   ],
   "source": [
    "popPrediction = predictByPopularity(trainUserItemMatrix, numUsers, numItems)"
   ]
  },
  {
   "cell_type": "code",
   "execution_count": 90,
   "metadata": {
    "collapsed": false
   },
   "outputs": [
    {
     "name": "stdout",
     "output_type": "stream",
     "text": [
      "k\tP@k\tR@k\n",
      "25\t0.000\t0.000\n",
      "50\t0.004\t0.015\n",
      "100\t0.019\t0.155\n",
      "250\t0.021\t0.400\n",
      "500\t0.017\t0.688\n"
     ]
    }
   ],
   "source": [
    "print(\"k\\tP@k\\tR@k\")\n",
    "for k in [25, 50, 100, 250, 500]:\n",
    "    print(\"%d\\t%.3lf\\t%.3lf\" % (k, avgPrecisionAtK(testUserItemMatrix, popPrediction, k), avgRecallAtK(testUserItemMatrix, popPrediction, k)))"
   ]
  },
  {
   "cell_type": "code",
   "execution_count": 91,
   "metadata": {
    "collapsed": false
   },
   "outputs": [
    {
     "data": {
      "text/plain": [
       "3.177941281084362"
      ]
     },
     "execution_count": 91,
     "metadata": {},
     "output_type": "execute_result"
    }
   ],
   "source": [
    "PopularityRMSE = rmse(popPrediction, testUserItemMatrix)\n",
    "PopularityRMSE"
   ]
  },
  {
   "cell_type": "markdown",
   "metadata": {},
   "source": [
    "## Making Recommendations for a User"
   ]
  },
  {
   "cell_type": "code",
   "execution_count": 75,
   "metadata": {
    "collapsed": false
   },
   "outputs": [],
   "source": [
    "def userTopK(prediction, moviesDataset, userID, k):\n",
    "    # Pick top K based on predicted rating\n",
    "    userVector = prediction[userID+1,:]\n",
    "    topK = nlargest(k, range(len(userVector)), userVector.take)\n",
    "    namesTopK = list(map(lambda x: moviesDataset[moviesDataset.movieID == x+1][\"movieTitle\"].values[0], topK))\n",
    "    return namesTopK"
   ]
  },
  {
   "cell_type": "code",
   "execution_count": 76,
   "metadata": {
    "collapsed": false
   },
   "outputs": [
    {
     "data": {
      "text/plain": [
       "['Loch Ness (1995)',\n",
       " 'Perfect Candidate, A (1996)',\n",
       " 'Love and Death on Long Island (1997)',\n",
       " 'Crossfire (1947)',\n",
       " 'Celestial Clockwork (1994)',\n",
       " 'They Made Me a Criminal (1939)',\n",
       " 'Last Time I Saw Paris, The (1954)',\n",
       " 'Innocents, The (1961)',\n",
       " \"Jupiter's Wife (1994)\",\n",
       " 'Prefontaine (1997)']"
      ]
     },
     "execution_count": 76,
     "metadata": {},
     "output_type": "execute_result"
    }
   ],
   "source": [
    "# recommend for userID 350 according to popularity recommender\n",
    "userTopK(popPrediction, moviesDF, 350, 10)"
   ]
  },
  {
   "cell_type": "code",
   "execution_count": 94,
   "metadata": {
    "collapsed": false
   },
   "outputs": [
    {
     "data": {
      "text/plain": [
       "['Toy Story (1995)',\n",
       " 'GoldenEye (1995)',\n",
       " 'Four Rooms (1995)',\n",
       " 'Get Shorty (1995)',\n",
       " 'Copycat (1995)',\n",
       " 'Shanghai Triad (Yao a yao yao dao waipo qiao) (1995)',\n",
       " 'Twelve Monkeys (1995)',\n",
       " 'Babe (1995)',\n",
       " 'Dead Man Walking (1995)',\n",
       " 'Richard III (1995)']"
      ]
     },
     "execution_count": 94,
     "metadata": {},
     "output_type": "execute_result"
    }
   ],
   "source": [
    "# recommend for userID 350 according to average rating recommender\n",
    "userTopK(userAvgPrediction, moviesDF, 350, 10)"
   ]
  },
  {
   "cell_type": "code",
   "execution_count": 95,
   "metadata": {
    "collapsed": false
   },
   "outputs": [
    {
     "data": {
      "text/plain": [
       "['Saint of Fort Washington, The (1993)',\n",
       " 'They Made Me a Criminal (1939)',\n",
       " 'Prefontaine (1997)',\n",
       " 'Marlene Dietrich: Shadow and Light (1996) ',\n",
       " 'Star Kid (1997)',\n",
       " 'Santa with Muscles (1996)',\n",
       " \"Someone Else's America (1995)\",\n",
       " 'Entertaining Angels: The Dorothy Day Story (1996)',\n",
       " 'Faust (1994)',\n",
       " 'Pather Panchali (1955)']"
      ]
     },
     "execution_count": 95,
     "metadata": {},
     "output_type": "execute_result"
    }
   ],
   "source": [
    "# recommend for userID 350 according to user similarity recommender\n",
    "userTopK(userSimPrediction, moviesDF, 350, 10)"
   ]
  },
  {
   "cell_type": "markdown",
   "metadata": {},
   "source": [
    "## Evaluating the other datasets"
   ]
  },
  {
   "cell_type": "code",
   "execution_count": 96,
   "metadata": {
    "collapsed": true
   },
   "outputs": [],
   "source": [
    "datasetsFileNames = [('u1.base', 'u1.test'),\n",
    "                     ('u2.base', 'u2.test'),\n",
    "                     ('u3.base', 'u3.test'),\n",
    "                     ('u4.base', 'u4.test'),\n",
    "                     ('u5.base', 'u5.test')]"
   ]
  },
  {
   "cell_type": "code",
   "execution_count": null,
   "metadata": {
    "collapsed": false
   },
   "outputs": [
    {
     "name": "stdout",
     "output_type": "stream",
     "text": [
      "calculated 0 users\n",
      "calculated 100 users\n",
      "calculated 200 users\n",
      "calculated 300 users\n",
      "calculated 400 users\n",
      "calculated 500 users\n",
      "calculated 600 users\n",
      "calculated 700 users\n",
      "calculated 800 users\n",
      "calculated 900 users\n",
      "calculated 0 users\n",
      "calculated 100 users\n",
      "calculated 200 users\n",
      "calculated 400 users\n",
      "calculated 500 users\n",
      "calculated 600 users\n",
      "calculated 700 users\n",
      "calculated 800 users\n",
      "calculated 900 users\n",
      "calculated 0 users\n",
      "calculated 100 users\n",
      "calculated 200 users\n",
      "calculated 300 users\n",
      "calculated 400 users\n",
      "calculated 500 users\n",
      "calculated 600 users\n",
      "calculated 700 users\n",
      "calculated 800 users\n",
      "calculated 900 users\n",
      "calculated 0 users\n",
      "calculated 100 users\n",
      "calculated 200 users\n",
      "calculated 300 users\n",
      "calculated 400 users\n",
      "calculated 500 users\n",
      "calculated 600 users\n",
      "calculated 700 users\n",
      "calculated 800 users\n",
      "calculated 900 users\n",
      "calculated 0 users\n",
      "calculated 100 users\n",
      "calculated 200 users\n",
      "calculated 300 users\n",
      "calculated 400 users\n"
     ]
    },
    {
     "ename": "KeyboardInterrupt",
     "evalue": "",
     "output_type": "error",
     "traceback": [
      "\u001b[0;31m---------------------------------------------------------------------------\u001b[0m",
      "\u001b[0;31mKeyboardInterrupt\u001b[0m                         Traceback (most recent call last)",
      "\u001b[0;32m<ipython-input-97-f8989385e910>\u001b[0m in \u001b[0;36m<module>\u001b[0;34m()\u001b[0m\n\u001b[1;32m      6\u001b[0m     \u001b[0mcurTestUserItemMatrix\u001b[0m \u001b[0;34m=\u001b[0m \u001b[0mbuildUserItemMatrix\u001b[0m\u001b[0;34m(\u001b[0m\u001b[0mcurTestDF\u001b[0m\u001b[0;34m,\u001b[0m \u001b[0mnumUsers\u001b[0m\u001b[0;34m,\u001b[0m \u001b[0mnumItems\u001b[0m\u001b[0;34m)\u001b[0m\u001b[0;34m\u001b[0m\u001b[0m\n\u001b[1;32m      7\u001b[0m \u001b[0;34m\u001b[0m\u001b[0m\n\u001b[0;32m----> 8\u001b[0;31m     \u001b[0mcurUserAvgPrediction\u001b[0m \u001b[0;34m=\u001b[0m \u001b[0mpredictByUserAverage\u001b[0m\u001b[0;34m(\u001b[0m\u001b[0mcurTrainUserItemMatrix\u001b[0m\u001b[0;34m,\u001b[0m \u001b[0mnumUsers\u001b[0m\u001b[0;34m,\u001b[0m \u001b[0mnumItems\u001b[0m\u001b[0;34m)\u001b[0m\u001b[0;34m\u001b[0m\u001b[0m\n\u001b[0m\u001b[1;32m      9\u001b[0m     \u001b[0mavgRMSE\u001b[0m \u001b[0;34m=\u001b[0m \u001b[0mrmse\u001b[0m\u001b[0;34m(\u001b[0m\u001b[0mcurUserAvgPrediction\u001b[0m\u001b[0;34m,\u001b[0m \u001b[0mcurTestUserItemMatrix\u001b[0m\u001b[0;34m)\u001b[0m\u001b[0;34m\u001b[0m\u001b[0m\n\u001b[1;32m     10\u001b[0m \u001b[0;34m\u001b[0m\u001b[0m\n",
      "\u001b[0;32m<ipython-input-77-624471b3a0d6>\u001b[0m in \u001b[0;36mpredictByUserAverage\u001b[0;34m(trainSet, numUsers, numItems)\u001b[0m\n\u001b[1;32m      8\u001b[0m             \u001b[0;31m# Extract the items the user already rated\u001b[0m\u001b[0;34m\u001b[0m\u001b[0;34m\u001b[0m\u001b[0m\n\u001b[1;32m      9\u001b[0m             \u001b[0muserVector\u001b[0m \u001b[0;34m=\u001b[0m \u001b[0mtrainSet\u001b[0m\u001b[0;34m[\u001b[0m\u001b[0muser\u001b[0m\u001b[0;34m,\u001b[0m \u001b[0;34m:\u001b[0m\u001b[0;34m]\u001b[0m\u001b[0;34m\u001b[0m\u001b[0m\n\u001b[0;32m---> 10\u001b[0;31m             \u001b[0mratedItems\u001b[0m \u001b[0;34m=\u001b[0m \u001b[0muserVector\u001b[0m\u001b[0;34m[\u001b[0m\u001b[0muserVector\u001b[0m\u001b[0;34m.\u001b[0m\u001b[0mnonzero\u001b[0m\u001b[0;34m(\u001b[0m\u001b[0;34m)\u001b[0m\u001b[0;34m]\u001b[0m\u001b[0;34m\u001b[0m\u001b[0m\n\u001b[0m\u001b[1;32m     11\u001b[0m \u001b[0;34m\u001b[0m\u001b[0m\n\u001b[1;32m     12\u001b[0m             \u001b[0;31m# If not empty, calculate average and set as rating for the current item\u001b[0m\u001b[0;34m\u001b[0m\u001b[0;34m\u001b[0m\u001b[0m\n",
      "\u001b[0;31mKeyboardInterrupt\u001b[0m: "
     ]
    }
   ],
   "source": [
    "rmseList = []\n",
    "for trainFileName, testFileName in datasetsFileNames:\n",
    "    curTrainDF = pd.read_csv(os.path.join(MOVIELENS_DIR, trainFileName), sep='\\t', names=fields)\n",
    "    curTestDF = pd.read_csv(os.path.join(MOVIELENS_DIR, testFileName), sep='\\t', names=fields)\n",
    "    curTrainUserItemMatrix = buildUserItemMatrix(curTrainDF, numUsers, numItems)\n",
    "    curTestUserItemMatrix = buildUserItemMatrix(curTestDF, numUsers, numItems)\n",
    "    \n",
    "    curUserAvgPrediction = predictByUserAverage(curTrainUserItemMatrix, numUsers, numItems)\n",
    "    avgRMSE = rmse(curUserAvgPrediction, curTestUserItemMatrix)\n",
    "    \n",
    "    curUserSimilarity = 1 - pairwise_distances(curTrainUserItemMatrix, metric='cosine')\n",
    "    curUserSimPrediction = predictByUserSimilarity(curTrainUserItemMatrix, numUsers, numItems, curUserSimilarity)\n",
    "    simRMSE = rmse(curUserSimPrediction, curTestUserItemMatrix)\n",
    "    \n",
    "    rmseList.append((avgRMSE, simRMSE))"
   ]
  },
  {
   "cell_type": "code",
   "execution_count": null,
   "metadata": {
    "collapsed": false
   },
   "outputs": [],
   "source": [
    "print(\"Avg\\tSim\")\n",
    "for avgScore, simScore in rmseList:\n",
    "    print(\"%.3lf\\t%.3lf\" % (avgScore, simScore))"
   ]
  },
  {
   "cell_type": "code",
   "execution_count": null,
   "metadata": {
    "collapsed": true
   },
   "outputs": [],
   "source": [
    "datasetsFileNames = [('u1.base', 'u1.test'),\n",
    "                     ('u2.base', 'u2.test'),\n",
    "                     ('u3.base', 'u3.test'),\n",
    "                     ('u4.base', 'u4.test'),\n",
    "                     ('u5.base', 'u5.test')]"
   ]
  },
  {
   "cell_type": "code",
   "execution_count": null,
   "metadata": {
    "collapsed": true
   },
   "outputs": [],
   "source": [
    "# Cosine distance for all datasets"
   ]
  },
  {
   "cell_type": "code",
   "execution_count": 70,
   "metadata": {
    "collapsed": false
   },
   "outputs": [
    {
     "name": "stdout",
     "output_type": "stream",
     "text": [
      "calculated 0 users\n",
      "calculated 100 users\n",
      "calculated 200 users\n",
      "calculated 300 users\n",
      "calculated 400 users\n",
      "calculated 500 users\n",
      "calculated 600 users\n",
      "calculated 700 users\n",
      "calculated 800 users\n",
      "calculated 900 users\n",
      "calculated 0 users\n",
      "calculated 100 users\n",
      "calculated 200 users\n",
      "calculated 300 users\n",
      "calculated 400 users\n",
      "calculated 500 users\n",
      "calculated 600 users\n",
      "calculated 700 users\n",
      "calculated 800 users\n",
      "calculated 900 users\n",
      "calculated 0 users\n",
      "calculated 100 users\n",
      "calculated 200 users\n",
      "calculated 300 users\n",
      "calculated 400 users\n",
      "calculated 500 users\n",
      "calculated 600 users\n",
      "calculated 700 users\n",
      "calculated 800 users\n",
      "calculated 900 users\n",
      "calculated 0 users\n",
      "calculated 100 users\n",
      "calculated 200 users\n",
      "calculated 300 users\n",
      "calculated 400 users\n",
      "calculated 500 users\n",
      "calculated 600 users\n",
      "calculated 700 users\n",
      "calculated 800 users\n",
      "calculated 900 users\n",
      "calculated 0 users\n",
      "calculated 100 users\n",
      "calculated 200 users\n",
      "calculated 300 users\n",
      "calculated 400 users\n",
      "calculated 500 users\n",
      "calculated 600 users\n",
      "calculated 700 users\n",
      "calculated 800 users\n",
      "calculated 900 users\n"
     ]
    }
   ],
   "source": [
    "rmseList = []\n",
    "for trainFileName, testFileName in datasetsFileNames:\n",
    "    curTrainDF = pd.read_csv(os.path.join(MOVIELENS_DIR, trainFileName), sep='\\t', names=fields)\n",
    "    curTestDF = pd.read_csv(os.path.join(MOVIELENS_DIR, testFileName), sep='\\t', names=fields)\n",
    "    curTrainUserItemMatrix = buildUserItemMatrix(curTrainDF, numUsers, numItems)\n",
    "    curTestUserItemMatrix = buildUserItemMatrix(curTestDF, numUsers, numItems)\n",
    "    \n",
    "    \n",
    "    curUserSimilarity = 1 - pairwise_distances(curTrainUserItemMatrix, metric='cosine')\n",
    "    curUserSimPrediction = predictByUserSimilarity(curTrainUserItemMatrix, numUsers, numItems, curUserSimilarity)\n",
    "    simRMSE = rmse(curUserSimPrediction, curTestUserItemMatrix)\n",
    "    \n",
    "    rmseList.append((simRMSE))"
   ]
  },
  {
   "cell_type": "code",
   "execution_count": 71,
   "metadata": {
    "collapsed": false
   },
   "outputs": [
    {
     "name": "stdout",
     "output_type": "stream",
     "text": [
      "Sim\n",
      "1.026\n",
      "1.021\n",
      "1.013\n",
      "1.009\n",
      "1.016\n"
     ]
    }
   ],
   "source": [
    "print(\"Sim\")\n",
    "for simScore in rmseList:\n",
    "    print(\"%.3lf\" % (simScore))"
   ]
  },
  {
   "cell_type": "markdown",
   "metadata": {},
   "source": [
    "# Euclidean and Cosine Comparison"
   ]
  },
  {
   "cell_type": "code",
   "execution_count": 75,
   "metadata": {
    "collapsed": false
   },
   "outputs": [
    {
     "name": "stdout",
     "output_type": "stream",
     "text": [
      "calculated 0 users\n",
      "calculated 100 users\n",
      "calculated 200 users\n",
      "calculated 300 users\n",
      "calculated 400 users\n",
      "calculated 500 users\n",
      "calculated 600 users\n",
      "calculated 700 users\n",
      "calculated 800 users\n",
      "calculated 900 users\n",
      "calculated 0 users\n",
      "calculated 100 users\n",
      "calculated 200 users\n",
      "calculated 300 users\n",
      "calculated 400 users\n",
      "calculated 500 users\n",
      "calculated 600 users\n",
      "calculated 700 users\n",
      "calculated 800 users\n",
      "calculated 900 users\n",
      "calculated 0 users\n",
      "calculated 100 users\n",
      "calculated 200 users\n",
      "calculated 300 users\n",
      "calculated 400 users\n",
      "calculated 500 users\n",
      "calculated 600 users\n",
      "calculated 700 users\n",
      "calculated 800 users\n",
      "calculated 900 users\n",
      "calculated 0 users\n",
      "calculated 100 users\n",
      "calculated 200 users\n",
      "calculated 300 users\n",
      "calculated 400 users\n",
      "calculated 500 users\n",
      "calculated 600 users\n",
      "calculated 700 users\n",
      "calculated 800 users\n",
      "calculated 900 users\n",
      "calculated 0 users\n",
      "calculated 100 users\n",
      "calculated 200 users\n",
      "calculated 300 users\n",
      "calculated 400 users\n",
      "calculated 500 users\n",
      "calculated 600 users\n",
      "calculated 700 users\n",
      "calculated 800 users\n",
      "calculated 900 users\n",
      "calculated 0 users\n",
      "calculated 100 users\n",
      "calculated 200 users\n",
      "calculated 300 users\n",
      "calculated 400 users\n",
      "calculated 500 users\n",
      "calculated 600 users\n",
      "calculated 700 users\n",
      "calculated 800 users\n",
      "calculated 900 users\n",
      "calculated 0 users\n",
      "calculated 100 users\n",
      "calculated 200 users\n",
      "calculated 300 users\n",
      "calculated 400 users\n",
      "calculated 500 users\n",
      "calculated 600 users\n",
      "calculated 700 users\n",
      "calculated 800 users\n",
      "calculated 900 users\n",
      "calculated 0 users\n",
      "calculated 100 users\n",
      "calculated 200 users\n",
      "calculated 300 users\n",
      "calculated 400 users\n",
      "calculated 500 users\n",
      "calculated 600 users\n",
      "calculated 700 users\n",
      "calculated 800 users\n",
      "calculated 900 users\n",
      "calculated 0 users\n",
      "calculated 100 users\n",
      "calculated 200 users\n",
      "calculated 300 users\n",
      "calculated 400 users\n",
      "calculated 500 users\n",
      "calculated 600 users\n",
      "calculated 700 users\n",
      "calculated 800 users\n",
      "calculated 900 users\n",
      "calculated 0 users\n",
      "calculated 100 users\n",
      "calculated 200 users\n",
      "calculated 300 users\n",
      "calculated 400 users\n",
      "calculated 500 users\n",
      "calculated 600 users\n",
      "calculated 700 users\n",
      "calculated 800 users\n",
      "calculated 900 users\n"
     ]
    }
   ],
   "source": [
    "rmseList = []\n",
    "for trainFileName, testFileName in datasetsFileNames:\n",
    "    curTrainDF = pd.read_csv(os.path.join(MOVIELENS_DIR, trainFileName), sep='\\t', names=fields)\n",
    "    curTestDF = pd.read_csv(os.path.join(MOVIELENS_DIR, testFileName), sep='\\t', names=fields)\n",
    "    curTrainUserItemMatrix = buildUserItemMatrix(curTrainDF, numUsers, numItems)\n",
    "    curTestUserItemMatrix = buildUserItemMatrix(curTestDF, numUsers, numItems)\n",
    "    \n",
    "    curUserSimilarity = 1 - pairwise_distances(curTrainUserItemMatrix, metric='cosine')\n",
    "    curUserSimPrediction = predictByUserSimilarity(curTrainUserItemMatrix, numUsers, numItems, curUserSimilarity)\n",
    "    simRMSE = rmse(curUserSimPrediction, curTestUserItemMatrix)\n",
    "    \n",
    "    curUserSimilarityEuc = 1 / pairwise_distances(curTrainUserItemMatrix)\n",
    "    curUserSimPredictionEuc = predictByUserSimilarity(curTrainUserItemMatrix, numUsers, numItems, curUserSimilarityEuc)\n",
    "    simRMSEEuc = rmse(curUserSimPredictionEuc, curTestUserItemMatrix)\n",
    "    \n",
    "    rmseList.append((simRMSE, simRMSEEuc))"
   ]
  },
  {
   "cell_type": "code",
   "execution_count": 80,
   "metadata": {
    "collapsed": false
   },
   "outputs": [
    {
     "name": "stdout",
     "output_type": "stream",
     "text": [
      "SimCos\tSimEuc\n",
      "1.026\t1.032\n",
      "1.021\t1.027\n",
      "1.013\t1.018\n",
      "1.009\t1.015\n",
      "1.016\t1.021\n"
     ]
    }
   ],
   "source": [
    "print(\"SimCos\\tSimEuc\")\n",
    "for simScoreCos, simScoreEuc in rmseList:\n",
    "    print(\"%.3lf\\t%.3lf\" % (simScoreCos, simScoreEuc))\n",
    " "
   ]
  },
  {
   "cell_type": "code",
   "execution_count": 1,
   "metadata": {
    "collapsed": false
   },
   "outputs": [
    {
     "ename": "NameError",
     "evalue": "name 'np' is not defined",
     "output_type": "error",
     "traceback": [
      "\u001b[0;31m---------------------------------------------------------------------------\u001b[0m",
      "\u001b[0;31mNameError\u001b[0m                                 Traceback (most recent call last)",
      "\u001b[0;32m<ipython-input-1-fe2c4909a2e7>\u001b[0m in \u001b[0;36m<module>\u001b[0;34m()\u001b[0m\n\u001b[1;32m      1\u001b[0m \u001b[0;32mfrom\u001b[0m \u001b[0mscipy\u001b[0m \u001b[0;32mimport\u001b[0m \u001b[0mstats\u001b[0m\u001b[0;34m\u001b[0m\u001b[0m\n\u001b[0;32m----> 2\u001b[0;31m \u001b[0mmean\u001b[0m \u001b[0;34m=\u001b[0m \u001b[0mnp\u001b[0m\u001b[0;34m.\u001b[0m\u001b[0mmean\u001b[0m\u001b[0;34m(\u001b[0m\u001b[0mrmseList\u001b[0m\u001b[0;34m,\u001b[0m \u001b[0maxis\u001b[0m\u001b[0;34m=\u001b[0m\u001b[0;36m0\u001b[0m\u001b[0;34m)\u001b[0m\u001b[0;34m\u001b[0m\u001b[0m\n\u001b[0m\u001b[1;32m      3\u001b[0m \u001b[0msigma\u001b[0m \u001b[0;34m=\u001b[0m \u001b[0mnp\u001b[0m\u001b[0;34m.\u001b[0m\u001b[0mstd\u001b[0m\u001b[0;34m(\u001b[0m\u001b[0mrmseList\u001b[0m\u001b[0;34m,\u001b[0m \u001b[0maxis\u001b[0m\u001b[0;34m=\u001b[0m\u001b[0;36m0\u001b[0m\u001b[0;34m)\u001b[0m\u001b[0;34m\u001b[0m\u001b[0m\n\u001b[1;32m      4\u001b[0m \u001b[0mprint\u001b[0m\u001b[0;34m(\u001b[0m\u001b[0;34m\"Cosine 5-fold cross validation average:\"\u001b[0m\u001b[0;34m,\u001b[0m \u001b[0mmean\u001b[0m\u001b[0;34m[\u001b[0m\u001b[0;36m0\u001b[0m\u001b[0;34m]\u001b[0m\u001b[0;34m)\u001b[0m\u001b[0;34m\u001b[0m\u001b[0m\n\u001b[1;32m      5\u001b[0m \u001b[0mprint\u001b[0m\u001b[0;34m(\u001b[0m\u001b[0;34m\"Cosine 95% confidence interval:\"\u001b[0m\u001b[0;34m,\u001b[0m \u001b[0mstats\u001b[0m\u001b[0;34m.\u001b[0m\u001b[0mnorm\u001b[0m\u001b[0;34m.\u001b[0m\u001b[0minterval\u001b[0m\u001b[0;34m(\u001b[0m\u001b[0;36m0.95\u001b[0m\u001b[0;34m,\u001b[0m \u001b[0mloc\u001b[0m\u001b[0;34m=\u001b[0m\u001b[0mmean\u001b[0m\u001b[0;34m[\u001b[0m\u001b[0;36m0\u001b[0m\u001b[0;34m]\u001b[0m\u001b[0;34m,\u001b[0m \u001b[0mscale\u001b[0m\u001b[0;34m=\u001b[0m\u001b[0msigma\u001b[0m\u001b[0;34m[\u001b[0m\u001b[0;36m0\u001b[0m\u001b[0;34m]\u001b[0m\u001b[0;34m)\u001b[0m\u001b[0;34m)\u001b[0m\u001b[0;34m\u001b[0m\u001b[0m\n",
      "\u001b[0;31mNameError\u001b[0m: name 'np' is not defined"
     ]
    }
   ],
   "source": [
    "from scipy import stats\n",
    "mean = np.mean(rmseList, axis=0)\n",
    "sigma = np.std(rmseList, axis=0)\n",
    "print(\"Cosine 5-fold cross validation average:\", mean[0])\n",
    "print(\"Cosine 95% confidence interval:\", stats.norm.interval(0.95, loc=mean[0], scale=sigma[0]))\n",
    "print(\"Eucledian 5-fold cross validation average:\", mean[1])\n",
    "print(\"Eucledian 95% confidence interval:\", stats.norm.interval(0.95, loc=mean[1], scale=sigma[1]))\n",
    "\n"
   ]
  },
  {
   "cell_type": "markdown",
   "metadata": {},
   "source": [
    "### Cityblock metric"
   ]
  },
  {
   "cell_type": "code",
   "execution_count": 118,
   "metadata": {
    "collapsed": false
   },
   "outputs": [
    {
     "name": "stdout",
     "output_type": "stream",
     "text": [
      "calculated 0 users\n",
      "calculated 100 users\n",
      "calculated 200 users\n",
      "calculated 300 users\n",
      "calculated 400 users\n",
      "calculated 500 users\n",
      "calculated 600 users\n",
      "calculated 700 users\n",
      "calculated 800 users\n",
      "calculated 900 users\n",
      "calculated 0 users\n",
      "calculated 100 users\n",
      "calculated 200 users\n",
      "calculated 300 users\n",
      "calculated 400 users\n",
      "calculated 500 users\n",
      "calculated 600 users\n",
      "calculated 700 users\n",
      "calculated 800 users\n",
      "calculated 900 users\n",
      "calculated 0 users\n",
      "calculated 100 users\n",
      "calculated 200 users\n",
      "calculated 300 users\n",
      "calculated 400 users\n",
      "calculated 500 users\n",
      "calculated 600 users\n",
      "calculated 700 users\n",
      "calculated 800 users\n",
      "calculated 900 users\n",
      "calculated 0 users\n",
      "calculated 100 users\n",
      "calculated 200 users\n",
      "calculated 300 users\n",
      "calculated 400 users\n",
      "calculated 500 users\n",
      "calculated 600 users\n",
      "calculated 700 users\n",
      "calculated 800 users\n",
      "calculated 900 users\n",
      "calculated 0 users\n",
      "calculated 100 users\n",
      "calculated 200 users\n",
      "calculated 300 users\n",
      "calculated 400 users\n",
      "calculated 500 users\n",
      "calculated 600 users\n",
      "calculated 700 users\n",
      "calculated 800 users\n",
      "calculated 900 users\n"
     ]
    }
   ],
   "source": [
    "rmseListCB = []\n",
    "for trainFileName, testFileName in datasetsFileNames:\n",
    "    curTrainDF = pd.read_csv(os.path.join(MOVIELENS_DIR, trainFileName), sep='\\t', names=fields)\n",
    "    curTestDF = pd.read_csv(os.path.join(MOVIELENS_DIR, testFileName), sep='\\t', names=fields)\n",
    "    curTrainUserItemMatrix = buildUserItemMatrix(curTrainDF, numUsers, numItems)\n",
    "    curTestUserItemMatrix = buildUserItemMatrix(curTestDF, numUsers, numItems)\n",
    "    \n",
    "    \n",
    "    curUserSimilarityCB = 1 / pairwise_distances(curTrainUserItemMatrix, metric='cityblock')\n",
    "    curUserSimPredictionCB = predictByUserSimilarity(curTrainUserItemMatrix, numUsers, numItems, curUserSimilarityCB)\n",
    "    simRMSECB = rmse(curUserSimPredictionCB, curTestUserItemMatrix)\n",
    "    \n",
    "    rmseListCB.append((simRMSECB))"
   ]
  },
  {
   "cell_type": "code",
   "execution_count": 119,
   "metadata": {
    "collapsed": false
   },
   "outputs": [
    {
     "name": "stdout",
     "output_type": "stream",
     "text": [
      "Sim\n",
      "1.032\n",
      "1.027\n",
      "1.017\n",
      "1.015\n",
      "1.021\n",
      "Cityblock 5-fold cross validation average: 1.02239932304\n",
      "Cityblock 95% confidence interval: (1.0098786564546642, 1.0349199896201695)\n"
     ]
    }
   ],
   "source": [
    "print(\"Sim\")\n",
    "for simScoreCB in rmseListCB:\n",
    "    print(\"%.3lf\" % (simScoreCB))\n",
    "mean = np.mean(rmseListCB)\n",
    "sigma = np.std(rmseListCB)\n",
    "print(\"Cityblock 5-fold cross validation average:\", mean)\n",
    "print(\"Cityblock 95% confidence interval:\", stats.norm.interval(0.95, loc=mean, scale=sigma))\n",
    "  "
   ]
  },
  {
   "cell_type": "code",
   "execution_count": 157,
   "metadata": {
    "collapsed": false
   },
   "outputs": [
    {
     "data": {
      "text/plain": [
       "array([[5, 4, 0, ..., 5, 0, 0],\n",
       "       [3, 0, 0, ..., 0, 0, 5],\n",
       "       [4, 0, 0, ..., 0, 0, 0],\n",
       "       ..., \n",
       "       [0, 0, 0, ..., 0, 0, 0],\n",
       "       [0, 0, 0, ..., 0, 0, 0],\n",
       "       [0, 0, 0, ..., 0, 0, 0]], dtype=int8)"
      ]
     },
     "execution_count": 157,
     "metadata": {},
     "output_type": "execute_result"
    }
   ],
   "source": [
    "trainItemUserMatrix = trainUserItemMatrix.T\n",
    "trainItemUserMatrix"
   ]
  },
  {
   "cell_type": "code",
   "execution_count": 159,
   "metadata": {
    "collapsed": false
   },
   "outputs": [],
   "source": [
    "itemSimilarity = 1 - pairwise_distances(trainItemUserMatrix, metric='cosine')\n",
    "\n",
    "def predictByItemSimilarity(trainSet, numItems, numUsers, similarity):\n",
    "    # Initialize the predicted rating matrix with zeros\n",
    "    predictionMatrixT = np.zeros((numItems, numUsers))\n",
    "    \n",
    "    for (item, user), rating in np.ndenumerate(trainSet):\n",
    "        if rating == 0:\n",
    "            \n",
    "            userVector = trainSet[:,user]\n",
    "            itemsRatings = userVector[userVector.nonzero()]\n",
    "            \n",
    "            itemsSim = similarity[item,:][userVector.nonzero()]\n",
    "            \n",
    "            if len(itemsSim) or itemsSim.sum == 0 :\n",
    "                itemVector = trainSet[item, :]\n",
    "                ratedUsers = itemVector[itemVector.nonzero()]\n",
    "                \n",
    "                if len(ratedUsers) == 0:\n",
    "                    predictionMatrixT[item, user] = 0\n",
    "                else:\n",
    "                    predictionMatrixT[item, user] = ratedUsers.mean()\n",
    "                    \n",
    "            \n",
    "            else:\n",
    "                # predict score based on item-item similarity\n",
    "                predictionMatrixT[item, user] = (itemsRatings*itemsSim).sum() / itemsSim.sum()\n",
    "        \n",
    "        # report progress every 100 items\n",
    "        if (item % 100 == 0 and user == 1):\n",
    "            print (\"calculated %d items\" % (item,))\n",
    "    \n",
    "    return predictionMatrixT"
   ]
  },
  {
   "cell_type": "code",
   "execution_count": 160,
   "metadata": {
    "collapsed": false
   },
   "outputs": [
    {
     "name": "stdout",
     "output_type": "stream",
     "text": [
      "calculated 0 items\n",
      "calculated 100 items\n",
      "calculated 200 items\n",
      "calculated 300 items\n",
      "calculated 400 items\n",
      "calculated 500 items\n",
      "calculated 600 items\n",
      "calculated 700 items\n",
      "calculated 800 items\n",
      "calculated 900 items\n",
      "calculated 1000 items\n",
      "calculated 1100 items\n",
      "calculated 1200 items\n",
      "calculated 1300 items\n",
      "calculated 1400 items\n",
      "calculated 1500 items\n",
      "calculated 1600 items\n"
     ]
    }
   ],
   "source": [
    "itemSimPrediction = predictByItemSimilarity(trainUserItemMatrixTranspose, numItems, numUsers, itemSimilarity)"
   ]
  },
  {
   "cell_type": "code",
   "execution_count": 20,
   "metadata": {
    "collapsed": false
   },
   "outputs": [
    {
     "ename": "NameError",
     "evalue": "name 'rmse' is not defined",
     "output_type": "error",
     "traceback": [
      "\u001b[0;31m---------------------------------------------------------------------------\u001b[0m",
      "\u001b[0;31mNameError\u001b[0m                                 Traceback (most recent call last)",
      "\u001b[0;32m<ipython-input-20-70d98ec76fcb>\u001b[0m in \u001b[0;36m<module>\u001b[0;34m()\u001b[0m\n\u001b[1;32m      1\u001b[0m \u001b[0mtestUserItemMatrixTranspose\u001b[0m \u001b[0;34m=\u001b[0m \u001b[0mtestUserItemMatrix\u001b[0m\u001b[0;34m.\u001b[0m\u001b[0mT\u001b[0m\u001b[0;34m\u001b[0m\u001b[0m\n\u001b[1;32m      2\u001b[0m \u001b[0;34m\u001b[0m\u001b[0m\n\u001b[0;32m----> 3\u001b[0;31m \u001b[0mrmse\u001b[0m\u001b[0;34m(\u001b[0m\u001b[0mitemSimPrediction\u001b[0m\u001b[0;34m,\u001b[0m \u001b[0mtestUserItemMatrixTranspose\u001b[0m\u001b[0;34m)\u001b[0m\u001b[0;34m\u001b[0m\u001b[0m\n\u001b[0m",
      "\u001b[0;31mNameError\u001b[0m: name 'rmse' is not defined"
     ]
    }
   ],
   "source": [
    "testUserItemMatrixTranspose = testUserItemMatrix.T\n",
    "\n",
    "rmse(itemSimPrediction, testUserItemMatrixTranspose)"
   ]
  },
  {
   "cell_type": "code",
   "execution_count": 140,
   "metadata": {
    "collapsed": false
   },
   "outputs": [
    {
     "name": "stdout",
     "output_type": "stream",
     "text": [
      "calculated 0 users\n",
      "calculated 100 users\n",
      "calculated 200 users\n",
      "calculated 300 users\n",
      "calculated 400 users\n",
      "calculated 500 users\n",
      "calculated 600 users\n",
      "calculated 700 users\n",
      "calculated 800 users\n",
      "calculated 900 users\n",
      "calculated 0 items\n",
      "calculated 100 items\n",
      "calculated 200 items\n",
      "calculated 300 items\n",
      "calculated 400 items\n",
      "calculated 500 items\n",
      "calculated 600 items\n",
      "calculated 700 items\n",
      "calculated 800 items\n",
      "calculated 900 items\n",
      "calculated 1000 items\n",
      "calculated 1100 items\n",
      "calculated 1200 items\n",
      "calculated 1300 items\n",
      "calculated 1400 items\n",
      "calculated 1500 items\n",
      "calculated 1600 items\n",
      "calculated 0 users\n",
      "calculated 100 users\n",
      "calculated 200 users\n",
      "calculated 300 users\n",
      "calculated 400 users\n",
      "calculated 500 users\n",
      "calculated 600 users\n",
      "calculated 700 users\n",
      "calculated 800 users\n",
      "calculated 900 users\n",
      "calculated 0 items\n",
      "calculated 100 items\n",
      "calculated 200 items\n",
      "calculated 300 items\n",
      "calculated 400 items\n",
      "calculated 500 items\n",
      "calculated 600 items\n",
      "calculated 700 items\n",
      "calculated 800 items\n",
      "calculated 900 items\n",
      "calculated 1000 items\n",
      "calculated 1100 items\n",
      "calculated 1200 items\n",
      "calculated 1300 items\n",
      "calculated 1400 items\n",
      "calculated 1500 items\n",
      "calculated 1600 items\n",
      "calculated 0 users\n",
      "calculated 100 users\n",
      "calculated 200 users\n",
      "calculated 300 users\n",
      "calculated 400 users\n",
      "calculated 500 users\n",
      "calculated 600 users\n",
      "calculated 700 users\n",
      "calculated 800 users\n",
      "calculated 900 users\n",
      "calculated 0 items\n",
      "calculated 100 items\n",
      "calculated 200 items\n",
      "calculated 300 items\n",
      "calculated 400 items\n",
      "calculated 500 items\n",
      "calculated 600 items\n",
      "calculated 700 items\n",
      "calculated 800 items\n",
      "calculated 900 items\n",
      "calculated 1000 items\n",
      "calculated 1100 items\n",
      "calculated 1200 items\n",
      "calculated 1300 items\n",
      "calculated 1400 items\n",
      "calculated 1500 items\n",
      "calculated 1600 items\n",
      "calculated 0 users\n",
      "calculated 100 users\n",
      "calculated 200 users\n",
      "calculated 300 users\n",
      "calculated 400 users\n",
      "calculated 500 users\n",
      "calculated 600 users\n",
      "calculated 700 users\n",
      "calculated 800 users\n",
      "calculated 900 users\n",
      "calculated 0 items\n",
      "calculated 100 items\n",
      "calculated 200 items\n",
      "calculated 300 items\n",
      "calculated 400 items\n",
      "calculated 500 items\n",
      "calculated 600 items\n",
      "calculated 700 items\n",
      "calculated 800 items\n",
      "calculated 900 items\n",
      "calculated 1000 items\n",
      "calculated 1100 items\n",
      "calculated 1200 items\n",
      "calculated 1300 items\n",
      "calculated 1400 items\n",
      "calculated 1500 items\n",
      "calculated 1600 items\n",
      "calculated 0 users\n",
      "calculated 100 users\n",
      "calculated 200 users\n",
      "calculated 300 users\n",
      "calculated 400 users\n",
      "calculated 500 users\n",
      "calculated 600 users\n",
      "calculated 700 users\n",
      "calculated 800 users\n",
      "calculated 900 users\n",
      "calculated 0 items\n",
      "calculated 100 items\n",
      "calculated 200 items\n",
      "calculated 300 items\n",
      "calculated 400 items\n",
      "calculated 500 items\n",
      "calculated 600 items\n",
      "calculated 700 items\n",
      "calculated 800 items\n",
      "calculated 900 items\n",
      "calculated 1000 items\n",
      "calculated 1100 items\n",
      "calculated 1200 items\n",
      "calculated 1300 items\n",
      "calculated 1400 items\n",
      "calculated 1500 items\n",
      "calculated 1600 items\n"
     ]
    }
   ],
   "source": [
    "rmseList = []\n",
    "for trainFileName, testFileName in datasetsFileNames:\n",
    "    curTrainDF = pd.read_csv(os.path.join(MOVIELENS_DIR, trainFileName), sep='\\t', names=fields)\n",
    "    curTestDF = pd.read_csv(os.path.join(MOVIELENS_DIR, testFileName), sep='\\t', names=fields)\n",
    "    curTrainUserItemMatrix = buildUserItemMatrix(curTrainDF, numUsers, numItems)\n",
    "    curTestUserItemMatrix = buildUserItemMatrix(curTestDF, numUsers, numItems)\n",
    "    curTrainItemUserMatrix = curTrainUserItemMatrix.T\n",
    "    curTestItemUserMatrix = curTestUserItemMatrix.T\n",
    "    \n",
    "    curUserSimilarity = 1 - pairwise_distances(curTrainUserItemMatrix, metric='cosine')\n",
    "    curUserSimPrediction = predictByUserSimilarity(curTrainUserItemMatrix, numUsers, numItems, curUserSimilarity)\n",
    "    simUserRMSE = rmse(curUserSimPrediction, curTestUserItemMatrix)\n",
    "    \n",
    "    curItemSimilarity = 1 - pairwise_distances(curTrainItemUserMatrix, metric='cosine')\n",
    "    curItemSimPrediction = predictByItemSimilarity(curTrainItemUserMatrix, numItems, numUsers, curItemSimilarity)\n",
    "    simItemRMSE = rmse(curItemSimPrediction, curTestItemUserMatrix)\n",
    "    \n",
    "    rmseList.append((simUserRMSE, simItemRMSE))"
   ]
  },
  {
   "cell_type": "code",
   "execution_count": 141,
   "metadata": {
    "collapsed": false
   },
   "outputs": [
    {
     "name": "stdout",
     "output_type": "stream",
     "text": [
      "User RMSE\tItem RMSE\n",
      "1.026\t1.036\n",
      "1.021\t1.031\n",
      "1.013\t1.024\n",
      "1.009\t1.019\n",
      "1.016\t1.028\n"
     ]
    }
   ],
   "source": [
    "print(\"User RMSE\\tItem RMSE\")\n",
    "for UserRMSE, ItemRMSE in rmseList:\n",
    "    print(\"%.3lf\\t%.3lf\" % (UserRMSE, ItemRMSE))"
   ]
  },
  {
   "cell_type": "code",
   "execution_count": 142,
   "metadata": {
    "collapsed": false
   },
   "outputs": [
    {
     "name": "stdout",
     "output_type": "stream",
     "text": [
      "User Similarity 5-fold cross validation average: 1.01735412166\n",
      "User Similarity 95% confidence interval: (1.0055778104528141, 1.0291304328683475)\n",
      "Item Similarity 5-fold cross validation average: 1.02783566413\n",
      "Item Similarity 95% confidence interval: (1.0165619126170875, 1.0391094156430194)\n"
     ]
    }
   ],
   "source": [
    "mean = np.mean(rmseList, axis=0)\n",
    "sigma = np.std(rmseList, axis=0)\n",
    "print(\"User Similarity 5-fold cross validation average:\", mean[0])\n",
    "print(\"User Similarity 95% confidence interval:\", stats.norm.interval(0.95, loc=mean[0], scale=sigma[0]))\n",
    "print(\"Item Similarity 5-fold cross validation average:\", mean[1])\n",
    "print(\"Item Similarity 95% confidence interval:\", stats.norm.interval(0.95, loc=mean[1], scale=sigma[1]))\n",
    "\n"
   ]
  },
  {
   "cell_type": "code",
   "execution_count": 69,
   "metadata": {
    "collapsed": false
   },
   "outputs": [
    {
     "ename": "NameError",
     "evalue": "name 'datasetsFileNames' is not defined",
     "output_type": "error",
     "traceback": [
      "\u001b[0;31m---------------------------------------------------------------------------\u001b[0m",
      "\u001b[0;31mNameError\u001b[0m                                 Traceback (most recent call last)",
      "\u001b[0;32m<ipython-input-69-3e56146beccc>\u001b[0m in \u001b[0;36m<module>\u001b[0;34m()\u001b[0m\n\u001b[1;32m      6\u001b[0m \u001b[0mpopularityMetrics\u001b[0m \u001b[0;34m=\u001b[0m \u001b[0;34m[\u001b[0m\u001b[0;34m]\u001b[0m\u001b[0;34m\u001b[0m\u001b[0m\n\u001b[1;32m      7\u001b[0m \u001b[0;34m\u001b[0m\u001b[0m\n\u001b[0;32m----> 8\u001b[0;31m \u001b[0;32mfor\u001b[0m \u001b[0mtrainFileName\u001b[0m\u001b[0;34m,\u001b[0m \u001b[0mtestFileName\u001b[0m \u001b[0;32min\u001b[0m \u001b[0mdatasetsFileNames\u001b[0m\u001b[0;34m:\u001b[0m\u001b[0;34m\u001b[0m\u001b[0m\n\u001b[0m\u001b[1;32m      9\u001b[0m     \u001b[0mi\u001b[0m\u001b[0;34m=\u001b[0m\u001b[0mi\u001b[0m\u001b[0;34m+\u001b[0m\u001b[0;36m1\u001b[0m\u001b[0;34m\u001b[0m\u001b[0m\n\u001b[1;32m     10\u001b[0m     \u001b[0mcurTrainDF\u001b[0m \u001b[0;34m=\u001b[0m \u001b[0mpd\u001b[0m\u001b[0;34m.\u001b[0m\u001b[0mread_csv\u001b[0m\u001b[0;34m(\u001b[0m\u001b[0mos\u001b[0m\u001b[0;34m.\u001b[0m\u001b[0mpath\u001b[0m\u001b[0;34m.\u001b[0m\u001b[0mjoin\u001b[0m\u001b[0;34m(\u001b[0m\u001b[0mMOVIELENS_DIR\u001b[0m\u001b[0;34m,\u001b[0m \u001b[0mtrainFileName\u001b[0m\u001b[0;34m)\u001b[0m\u001b[0;34m,\u001b[0m \u001b[0msep\u001b[0m\u001b[0;34m=\u001b[0m\u001b[0;34m'\\t'\u001b[0m\u001b[0;34m,\u001b[0m \u001b[0mnames\u001b[0m\u001b[0;34m=\u001b[0m\u001b[0mfields\u001b[0m\u001b[0;34m)\u001b[0m\u001b[0;34m\u001b[0m\u001b[0m\n",
      "\u001b[0;31mNameError\u001b[0m: name 'datasetsFileNames' is not defined"
     ]
    }
   ],
   "source": [
    "rmseList = []\n",
    "i=0\n",
    "userAvgMetrics = []\n",
    "userSimMetrics = []\n",
    "itemSimMetrics = []\n",
    "popularityMetrics = []\n",
    "\n",
    "for trainFileName, testFileName in datasetsFileNames:\n",
    "    i=i+1\n",
    "    curTrainDF = pd.read_csv(os.path.join(MOVIELENS_DIR, trainFileName), sep='\\t', names=fields)\n",
    "    curTestDF = pd.read_csv(os.path.join(MOVIELENS_DIR, testFileName), sep='\\t', names=fields)\n",
    "    curTrainUserItemMatrix = buildUserItemMatrix(curTrainDF, numUsers, numItems)\n",
    "    curTestUserItemMatrix = buildUserItemMatrix(curTestDF, numUsers, numItems)\n",
    "    curTrainItemUserMatrix = curTrainUserItemMatrix.T\n",
    "    curTestItemUserMatrix = curTestUserItemMatrix.T\n",
    "    \n",
    "    curUserAvgPrediction = predictByUserAverage(curTrainUserItemMatrix, numUsers, numItems)\n",
    "    avgRMSE = rmse(curUserAvgPrediction, curTestUserItemMatrix)\n",
    "    \n",
    "    curUserSimilarity = 1 - pairwise_distances(curTrainUserItemMatrix, metric='cosine')\n",
    "    curUserSimPrediction = predictByUserSimilarity(curTrainUserItemMatrix, numUsers, numItems, curUserSimilarity)\n",
    "    simUserRMSE = rmse(curUserSimPrediction, curTestUserItemMatrix)\n",
    "    \n",
    "    curItemSimilarity = 1 - pairwise_distances(curTrainItemUserMatrix, metric='cosine')\n",
    "    curItemSimPrediction = predictByItemSimilarity(curTrainItemUserMatrix, numItems, numUsers, curItemSimilarity)\n",
    "    simItemRMSE = rmse(curItemSimPrediction, curTestItemUserMatrix)\n",
    "    \n",
    "    curPopPrediction = predictByPopularity(curTrainUserItemMatrix, numUsers, numItems)\n",
    "    PopRMSE = rmse(curPopPrediction, curTestUserItemMatrix)\n",
    "\n",
    "    print(\"For trial number\", i)\n",
    "    print(\"k\\tP@k\\tR@k\")\n",
    "    for k in [25, 50, 100, 250, 500]:\n",
    "        userAvgMetrics.append((k, avgPrecisionAtK(curTestUserItemMatrix, curUserAvgPrediction, k), avgRecallAtK(curTestUserItemMatrix, curUserAvgPrediction, k)))\n",
    "        userSimMetrics.append((k, avgPrecisionAtK(curTestUserItemMatrix, curUserSimPrediction, k), avgRecallAtK(curTestUserItemMatrix, curUserSimPrediction, k)))\n",
    "        itemSimMetrics.append((k, avgPrecisionAtK(curTestItemUserMatrix, curItemSimPrediction, k), avgRecallAtK(curTestItemUserMatrix, curItemSimPrediction, k)))\n",
    "        popularityMetrics.append((k, avgPrecisionAtK(curTestUserItemMatrix, curPopPrediction, k), avgRecallAtK(curTestUserItemMatrix, curPopPrediction, k)))\n",
    "        \n",
    "        print(\"User Avg:\", \"%d\\t%.3lf\\t%.3lf\" % (k, avgPrecisionAtK(curTestUserItemMatrix, curUserAvgPrediction, k), avgRecallAtK(curTestUserItemMatrix, curUserAvgPrediction, k)))\n",
    "        print(\"User Sim:\", \"%d\\t%.3lf\\t%.3lf\" % (k, avgPrecisionAtK(curTestUserItemMatrix, curUserSimPrediction, k), avgRecallAtK(curTestUserItemMatrix, curUserSimPrediction, k)))\n",
    "        print(\"Item Sim:\", \"%d\\t%.3lf\\t%.3lf\" % (k, avgPrecisionAtK(curTestItemUserMatrix, curItemSimPrediction, k), avgRecallAtK(curTestItemUserMatrix, curItemSimPrediction, k)))\n",
    "        print(\"Popularity:\", \"%d\\t%.3lf\\t%.3lf\" % (k, avgPrecisionAtK(curTestUserItemMatrix, curPopPrediction, k), avgRecallAtK(curTestUserItemMatrix, curPopPrediction, k)))\n",
    "    \n",
    "    rmseList.append((avgRMSE, simUserRMSE, simItemRMSE, PopRMSE))"
   ]
  },
  {
   "cell_type": "code",
   "execution_count": 171,
   "metadata": {
    "collapsed": false
   },
   "outputs": [
    {
     "name": "stdout",
     "output_type": "stream",
     "text": [
      "avgRMSE\tsimUserRMSE\tsimItemRMSE\tPopRMSE\n",
      "1.063\t1.026\t1.036\t3.178\n",
      "1.047\t1.021\t1.031\t3.175\n",
      "1.033\t1.013\t1.024\t3.147\n",
      "1.037\t1.009\t1.019\t3.146\n",
      "1.039\t1.016\t1.028\t3.149\n"
     ]
    }
   ],
   "source": [
    "# RMSE Comparison:\n",
    "\n",
    "print(\"avgRMSE\\tsimUserRMSE\\tsimItemRMSE\\tPopRMSE\")\n",
    "for avgRMSE, simUserRMSE, simItemRMSE, PopRMSE in rmseList:\n",
    "    print(\"%.3lf\\t%.3lf\\t%.3lf\\t%.3lf\" % (avgRMSE, simUserRMSE, simItemRMSE, PopRMSE))\n",
    " "
   ]
  },
  {
   "cell_type": "code",
   "execution_count": 173,
   "metadata": {
    "collapsed": false
   },
   "outputs": [
    {
     "data": {
      "text/plain": [
       "[(25, 0.02812301166489914, 0.05627338468747922),\n",
       " (50, 0.02373276776246013, 0.09070897844058053),\n",
       " (100, 0.023743372216330876, 0.17442450189075948),\n",
       " (250, 0.023978791092258735, 0.435685310801242),\n",
       " (500, 0.018791092258748632, 0.781990949229217),\n",
       " (25, 0.02867444326617163, 0.0598575804508166),\n",
       " (50, 0.02487804878048768, 0.09458105043959829),\n",
       " (100, 0.023849416755037132, 0.1680506311413588),\n",
       " (250, 0.023753976670201394, 0.4428752121741389),\n",
       " (500, 0.018956521739130403, 0.8025718175445753),\n",
       " (25, 0.028971367974549148, 0.06162241054639059),\n",
       " (50, 0.02500530222693517, 0.09849524001430465),\n",
       " (100, 0.024029692470837746, 0.17783871639317977),\n",
       " (250, 0.023711558854718907, 0.4498395233794572),\n",
       " (500, 0.018653234358430436, 0.8007223172157748),\n",
       " (25, 0.027613997879109065, 0.0585239934041796),\n",
       " (50, 0.02386002120890761, 0.09285296548264899),\n",
       " (100, 0.023722163308589544, 0.17497145017860072),\n",
       " (250, 0.02389395546129362, 0.45890453292402306),\n",
       " (500, 0.018638388123011586, 0.8019592557644111),\n",
       " (25, 0.028038176033934128, 0.06155479896507999),\n",
       " (50, 0.022926829268292568, 0.09396458518306908),\n",
       " (100, 0.023223753976670158, 0.17937545502698526),\n",
       " (250, 0.023177094379639333, 0.45078344286764643),\n",
       " (500, 0.0183351007423117, 0.7933639700446516)]"
      ]
     },
     "execution_count": 173,
     "metadata": {},
     "output_type": "execute_result"
    }
   ],
   "source": [
    "userAvgMetrics"
   ]
  },
  {
   "cell_type": "code",
   "execution_count": 188,
   "metadata": {
    "collapsed": false
   },
   "outputs": [
    {
     "name": "stdout",
     "output_type": "stream",
     "text": [
      "k\tP@k\tR@k\n",
      "User Avg:\n",
      "For trial number 1\n",
      "(25, 0.02812301166489914, 0.05627338468747922)\n",
      "(50, 0.02373276776246013, 0.09070897844058053)\n",
      "(100, 0.023743372216330876, 0.17442450189075948)\n",
      "(250, 0.023978791092258735, 0.435685310801242)\n",
      "(500, 0.018791092258748632, 0.781990949229217)\n",
      "For trial number 2.0\n",
      "(25, 0.02867444326617163, 0.0598575804508166)\n",
      "(50, 0.02487804878048768, 0.09458105043959829)\n",
      "(100, 0.023849416755037132, 0.1680506311413588)\n",
      "(250, 0.023753976670201394, 0.4428752121741389)\n",
      "(500, 0.018956521739130403, 0.8025718175445753)\n",
      "For trial number 3.0\n",
      "(25, 0.028971367974549148, 0.06162241054639059)\n",
      "(50, 0.02500530222693517, 0.09849524001430465)\n",
      "(100, 0.024029692470837746, 0.17783871639317977)\n",
      "(250, 0.023711558854718907, 0.4498395233794572)\n",
      "(500, 0.018653234358430436, 0.8007223172157748)\n",
      "For trial number 4.0\n",
      "(25, 0.027613997879109065, 0.0585239934041796)\n",
      "(50, 0.02386002120890761, 0.09285296548264899)\n",
      "(100, 0.023722163308589544, 0.17497145017860072)\n",
      "(250, 0.02389395546129362, 0.45890453292402306)\n",
      "(500, 0.018638388123011586, 0.8019592557644111)\n",
      "For trial number 5.0\n",
      "(25, 0.028038176033934128, 0.06155479896507999)\n",
      "(50, 0.022926829268292568, 0.09396458518306908)\n",
      "(100, 0.023223753976670158, 0.17937545502698526)\n",
      "(250, 0.023177094379639333, 0.45078344286764643)\n",
      "(500, 0.0183351007423117, 0.7933639700446516)\n",
      " \n",
      "User Similarity:\n",
      "For trial number 1\n",
      "(25, 0.020106044538706184, 0.043439336421882524)\n",
      "(50, 0.025556733828207764, 0.10979309555358374)\n",
      "(100, 0.024411452810180295, 0.20208959758796624)\n",
      "(250, 0.020644750795333993, 0.3980825428540175)\n",
      "(500, 0.017045599151643658, 0.683482646487352)\n",
      "For trial number 2.0\n",
      "(25, 0.007211028632025456, 0.014304307625163487)\n",
      "(50, 0.02299045599151633, 0.09131280010471013)\n",
      "(100, 0.024135737009544026, 0.19145606046122896)\n",
      "(250, 0.020453870625662725, 0.3835011901956312)\n",
      "(500, 0.01720466595970302, 0.6834633967648923)\n",
      "For trial number 3.0\n",
      "(25, 0.011283138918345679, 0.0234899605541124)\n",
      "(50, 0.022905620360551306, 0.10263480358538359)\n",
      "(100, 0.024655355249204678, 0.21144605582245238)\n",
      "(250, 0.019940615058324413, 0.386265252133223)\n",
      "(500, 0.016962884411452755, 0.6777809922304511)\n",
      "For trial number 4.0\n",
      "(25, 0.013234358430540792, 0.029259513367076693)\n",
      "(50, 0.026256627783669006, 0.10997770520739958)\n",
      "(100, 0.026617179215270396, 0.21531847860035144)\n",
      "(250, 0.020602332979851423, 0.4049442147724937)\n",
      "(500, 0.016784729586426215, 0.6818065042361066)\n",
      "For trial number 5.0\n",
      "(25, 0.008356309650053028, 0.017645240951356285)\n",
      "(50, 0.024602332979851434, 0.11126760761673374)\n",
      "(100, 0.024718981972428365, 0.2169102010110555)\n",
      "(250, 0.02027995758218442, 0.4068014868944612)\n",
      "(500, 0.016784729586426256, 0.6926382752620488)\n",
      " \n",
      "Item Similarity:\n",
      "For trial number 1\n",
      "(25, 0.0422905620360548, 0.1084912003604297)\n",
      "(50, 0.03261930010604431, 0.15091975784352074)\n",
      "(100, 0.032131495227995945, 0.2827380724057083)\n",
      "(250, 0.029060445387062532, 0.5940006216005017)\n",
      "(500, 0.022316012725344638, 1.0)\n",
      "For trial number 2.0\n",
      "(25, 0.023541887592788777, 0.06434433304971372)\n",
      "(50, 0.019172852598091056, 0.08847278130978906)\n",
      "(100, 0.018886532343584343, 0.16063424832335255)\n",
      "(250, 0.017569459172852502, 0.34212019491762374)\n",
      "(500, 0.021181336161187683, 0.9086275143018379)\n",
      "For trial number 3.0\n",
      "(25, 0.012513255567338224, 0.03714979211500246)\n",
      "(50, 0.010434782608695582, 0.0512235752088938)\n",
      "(100, 0.010021208907741183, 0.09003908842567188)\n",
      "(250, 0.009896076352067741, 0.1964308796878841)\n",
      "(500, 0.01444750795334038, 0.572042932366674)\n",
      "For trial number 4.0\n",
      "(25, 0.009119830328738065, 0.026980124621828465)\n",
      "(50, 0.007295864262990413, 0.035275540067470766)\n",
      "(100, 0.0063838812301166056, 0.05384384290561349)\n",
      "(250, 0.006600212089077336, 0.12551795630150742)\n",
      "(500, 0.009838812301166476, 0.38265090704080973)\n",
      "For trial number 5.0\n",
      "(25, 0.007889713679745499, 0.02070333356284257)\n",
      "(50, 0.006574761399787877, 0.030380116335011535)\n",
      "(100, 0.005927889713679699, 0.054498213650597906)\n",
      "(250, 0.0057476139978790515, 0.10894395337743806)\n",
      "(500, 0.008712619300105981, 0.324501751102728)\n",
      " \n",
      "Popularity:\n",
      "For trial number 1\n",
      "(25, 0.0003817603393425238, 0.0003944864013648028)\n",
      "(50, 0.004411452810180278, 0.015048076106574732)\n",
      "(100, 0.019045599151643677, 0.1549932516188224)\n",
      "(250, 0.020665959703075235, 0.39991793942716464)\n",
      "(500, 0.017247083775185548, 0.6878605570624646)\n",
      "For trial number 2.0\n",
      "(25, 0.0003393425238600212, 0.0006073660776243071)\n",
      "(50, 0.0009119830328738074, 0.0036045025223047653)\n",
      "(100, 0.01823966065747614, 0.14379872959753243)\n",
      "(250, 0.020886532343584237, 0.3948589946938965)\n",
      "(500, 0.01749098621420994, 0.696936077273404)\n",
      "For trial number 3.0\n",
      "(25, 0.00038176033934252384, 0.0006751539979874555)\n",
      "(50, 0.00027571580063626724, 0.0008329026097996715)\n",
      "(100, 0.01572640509013779, 0.12582962727877797)\n",
      "(250, 0.020509013785789947, 0.40924867519911257)\n",
      "(500, 0.017124072110286256, 0.6971795970233543)\n",
      "For trial number 4.0\n",
      "(25, 0.00038176033934252384, 0.0005994514041440678)\n",
      "(50, 0.0002545068928950159, 0.0007532769793179576)\n",
      "(100, 0.015079533404029616, 0.12411377865729711)\n",
      "(250, 0.020254506892894913, 0.4050977446283896)\n",
      "(500, 0.016740190880169592, 0.6792364773939439)\n",
      "For trial number 5.0\n",
      "(25, 0.00038176033934252384, 0.0008965992510782466)\n",
      "(50, 0.0007423117709437966, 0.0029050645531087113)\n",
      "(100, 0.018027571580063555, 0.15409462627254175)\n",
      "(250, 0.020398727465535425, 0.41413211990110976)\n",
      "(500, 0.016945917285259755, 0.7017376299435221)\n"
     ]
    }
   ],
   "source": [
    "# Metrics Comparison:\n",
    "j=0\n",
    "print(\"k\\tP@k\\tR@k\")\n",
    "print(\"User Avg:\")\n",
    "for i in userAvgMetrics:\n",
    "    if j ==0:\n",
    "        print(\"For trial number 1\")\n",
    "    elif j%5==0:\n",
    "        print(\"For trial number\", j/5 + 1)\n",
    "    print(i)\n",
    "    j=j+1\n",
    "print(\" \")\n",
    "\n",
    "j=0\n",
    "print(\"User Similarity:\")\n",
    "for i in userSimMetrics:\n",
    "    if j ==0:\n",
    "        print(\"For trial number 1\")\n",
    "    elif j%5==0:\n",
    "        print(\"For trial number\", j/5 + 1)\n",
    "    print(i)\n",
    "    j=j+1\n",
    "print(\" \")\n",
    "\n",
    "j=0\n",
    "print(\"Item Similarity:\")\n",
    "for i in itemSimMetrics:\n",
    "    if j ==0:\n",
    "        print(\"For trial number 1\")\n",
    "    elif j%5==0:\n",
    "        print(\"For trial number\", j/5 + 1)\n",
    "    print(i)\n",
    "    j=j+1\n",
    "print(\" \")\n",
    "\n",
    "j=0\n",
    "print(\"Popularity:\")\n",
    "for i in popularityMetrics:\n",
    "    if j ==0:\n",
    "        print(\"For trial number 1\")\n",
    "    elif j%5==0:\n",
    "        print(\"For trial number\", j/5 + 1)\n",
    "    print(i)\n",
    "    j=j+1\n",
    "    "
   ]
  },
  {
   "cell_type": "code",
   "execution_count": 67,
   "metadata": {
    "collapsed": false
   },
   "outputs": [],
   "source": [
    "# Chosen movies:\n",
    "\n",
    "# 1) 419|Mary Poppins (1964)\n",
    "# 2) 420|Alice in Wonderland\n",
    "# 3) 1135|Doors, The"
   ]
  },
  {
   "cell_type": "code",
   "execution_count": 89,
   "metadata": {
    "collapsed": false
   },
   "outputs": [],
   "source": [
    "def simItems(moviesDataset, movieID, k):\n",
    "    # Pick top K based on predicted rating\n",
    "    itemVector = itemSimPrediction[:,movieID+1]\n",
    "    topK = nlargest(k, range(len(itemVector)), itemVector.take)\n",
    "    namesTopK = list(map(lambda x: moviesDataset[moviesDataset.movieID == x+1][\"movieTitle\"].values[0], topK))\n",
    "    return namesTopK"
   ]
  },
  {
   "cell_type": "code",
   "execution_count": 156,
   "metadata": {
    "collapsed": false
   },
   "outputs": [
    {
     "data": {
      "text/plain": [
       "array([ 3.18,  3.18,  3.18,  3.18,  3.18,  3.18,  0.  ,  3.18,  3.18,\n",
       "        3.18,  3.18,  3.18,  3.18,  3.18,  3.18,  3.18,  3.18,  3.18,\n",
       "        3.18,  3.18,  3.18,  3.18,  3.18,  3.18,  3.18,  3.18,  3.18,\n",
       "        3.18,  3.18,  3.18,  3.18,  3.18,  3.18,  3.18,  3.18,  3.18,\n",
       "        0.  ,  3.18,  3.18,  3.18,  3.18,  3.18,  3.18,  3.18,  3.18,\n",
       "        3.18,  3.18,  3.18,  3.18,  3.18,  3.18,  3.18,  3.18,  3.18,\n",
       "        3.18,  3.18,  3.18,  3.18,  3.18,  3.18,  3.18,  3.18,  3.18,\n",
       "        3.18,  3.18,  3.18,  3.18,  3.18,  3.18,  3.18,  3.18,  3.18,\n",
       "        3.18,  3.18,  3.18,  3.18,  3.18,  3.18,  3.18,  3.18,  3.18,\n",
       "        3.18,  3.18,  3.18,  0.  ,  3.18,  0.  ,  3.18,  3.18,  3.18,\n",
       "        3.18,  3.18,  3.18,  3.18,  3.18,  3.18,  3.18,  3.18,  3.18,\n",
       "        3.18,  3.18,  3.18,  3.18,  3.18,  3.18,  3.18,  3.18,  3.18,\n",
       "        3.18,  3.18,  3.18,  3.18,  3.18,  3.18,  3.18,  3.18,  3.18,\n",
       "        3.18,  3.18,  3.18,  3.18,  3.18,  3.18,  3.18,  3.18,  3.18,\n",
       "        3.18,  3.18,  3.18,  0.  ,  3.18,  3.18,  3.18,  3.18,  3.18,\n",
       "        3.18,  3.18,  3.18,  3.18,  3.18,  3.18,  3.18,  3.18,  3.18,\n",
       "        3.18,  3.18,  3.18,  3.18,  3.18,  3.18,  3.18,  3.18,  3.18,\n",
       "        3.18,  3.18,  3.18,  3.18,  3.18,  3.18,  3.18,  3.18,  3.18,\n",
       "        3.18,  3.18,  3.18,  3.18,  3.18,  3.18,  3.18,  3.18,  3.18,\n",
       "        3.18,  3.18,  3.18,  3.18,  3.18,  3.18,  3.18,  3.18,  3.18,\n",
       "        3.18,  3.18,  3.18,  3.18,  3.18,  3.18,  3.18,  3.18,  3.18,\n",
       "        3.18,  3.18,  3.18,  3.18,  3.18,  3.18,  3.18,  3.18,  0.  ,\n",
       "        3.18,  3.18,  3.18,  3.18,  3.18,  3.18,  3.18,  3.18,  3.18,\n",
       "        3.18,  3.18,  3.18,  3.18,  3.18,  3.18,  3.18,  3.18,  0.  ,\n",
       "        3.18,  3.18,  3.18,  3.18,  0.  ,  3.18,  3.18,  3.18,  3.18,\n",
       "        3.18,  3.18,  3.18,  3.18,  3.18,  3.18,  3.18,  3.18,  3.18,\n",
       "        3.18,  3.18,  3.18,  3.18,  3.18,  3.18,  3.18,  3.18,  3.18,\n",
       "        3.18,  3.18,  3.18,  3.18,  3.18,  3.18,  3.18,  3.18,  3.18,\n",
       "        3.18,  3.18,  3.18,  3.18,  3.18,  3.18,  3.18,  3.18,  3.18,\n",
       "        3.18,  3.18,  3.18,  3.18,  3.18,  3.18,  0.  ,  3.18,  3.18,\n",
       "        3.18,  3.18,  3.18,  3.18,  3.18,  0.  ,  3.18,  3.18,  0.  ,\n",
       "        3.18,  3.18,  3.18,  3.18,  3.18,  3.18,  3.18,  3.18,  3.18,\n",
       "        3.18,  3.18,  0.  ,  3.18,  3.18,  3.18,  3.18,  3.18,  0.  ,\n",
       "        3.18,  3.18,  3.18,  3.18,  3.18,  3.18,  3.18,  3.18,  3.18,\n",
       "        3.18,  3.18,  3.18,  3.18,  3.18,  3.18,  3.18,  3.18,  3.18,\n",
       "        3.18,  3.18,  3.18,  3.18,  0.  ,  3.18,  3.18,  3.18,  3.18,\n",
       "        3.18,  3.18,  3.18,  3.18,  3.18,  3.18,  3.18,  3.18,  3.18,\n",
       "        3.18,  3.18,  3.18,  3.18,  3.18,  3.18,  3.18,  3.18,  3.18,\n",
       "        3.18,  3.18,  3.18,  3.18,  3.18,  3.18,  3.18,  3.18,  3.18,\n",
       "        3.18,  3.18,  3.18,  3.18,  3.18,  3.18,  3.18,  3.18,  3.18,\n",
       "        3.18,  3.18,  3.18,  3.18,  3.18,  3.18,  3.18,  3.18,  3.18,\n",
       "        3.18,  3.18,  3.18,  3.18,  0.  ,  3.18,  3.18,  3.18,  3.18,\n",
       "        3.18,  3.18,  3.18,  3.18,  3.18,  3.18,  3.18,  3.18,  0.  ,\n",
       "        3.18,  3.18,  3.18,  3.18,  3.18,  3.18,  3.18,  3.18,  3.18,\n",
       "        3.18,  3.18,  3.18,  3.18,  3.18,  3.18,  3.18,  3.18,  0.  ,\n",
       "        3.18,  3.18,  3.18,  3.18,  3.18,  3.18,  3.18,  3.18,  3.18,\n",
       "        3.18,  0.  ,  0.  ,  3.18,  3.18,  3.18,  3.18,  3.18,  3.18,\n",
       "        3.18,  0.  ,  3.18,  3.18,  3.18,  3.18,  3.18,  3.18,  3.18,\n",
       "        3.18,  3.18,  0.  ,  3.18,  3.18,  3.18,  3.18,  3.18,  3.18,\n",
       "        0.  ,  3.18,  3.18,  3.18,  3.18,  0.  ,  3.18,  3.18,  3.18,\n",
       "        3.18,  0.  ,  3.18,  3.18,  3.18,  3.18,  0.  ,  3.18,  3.18,\n",
       "        3.18,  3.18,  3.18,  3.18,  3.18,  3.18,  0.  ,  3.18,  3.18,\n",
       "        3.18,  3.18,  3.18,  0.  ,  3.18,  3.18,  3.18,  3.18,  3.18,\n",
       "        3.18,  3.18,  3.18,  3.18,  3.18,  3.18,  3.18,  3.18,  3.18,\n",
       "        0.  ,  3.18,  3.18,  3.18,  3.18,  3.18,  3.18,  3.18,  3.18,\n",
       "        3.18,  3.18,  3.18,  3.18,  3.18,  3.18,  3.18,  3.18,  3.18,\n",
       "        3.18,  3.18,  3.18,  3.18,  3.18,  3.18,  3.18,  3.18,  3.18,\n",
       "        3.18,  3.18,  3.18,  3.18,  3.18,  3.18,  3.18,  3.18,  3.18,\n",
       "        3.18,  3.18,  3.18,  3.18,  3.18,  3.18,  3.18,  3.18,  3.18,\n",
       "        3.18,  3.18,  3.18,  3.18,  3.18,  3.18,  3.18,  3.18,  3.18,\n",
       "        3.18,  3.18,  3.18,  3.18,  3.18,  3.18,  3.18,  3.18,  3.18,\n",
       "        3.18,  3.18,  3.18,  3.18,  3.18,  3.18,  3.18,  3.18,  3.18,\n",
       "        3.18,  3.18,  3.18,  3.18,  3.18,  3.18,  3.18,  3.18,  3.18,\n",
       "        3.18,  3.18,  3.18,  3.18,  3.18,  3.18,  3.18,  3.18,  3.18,\n",
       "        3.18,  3.18,  3.18,  3.18,  3.18,  3.18,  3.18,  3.18,  3.18,\n",
       "        0.  ,  3.18,  3.18,  3.18,  3.18,  3.18,  3.18,  3.18,  3.18,\n",
       "        3.18,  3.18,  3.18,  3.18,  3.18,  0.  ,  3.18,  3.18,  3.18,\n",
       "        3.18,  3.18,  3.18,  3.18,  3.18,  3.18,  3.18,  3.18,  3.18,\n",
       "        3.18,  3.18,  3.18,  3.18,  3.18,  3.18,  0.  ,  3.18,  3.18,\n",
       "        3.18,  3.18,  3.18,  3.18,  3.18,  0.  ,  3.18,  3.18,  3.18,\n",
       "        3.18,  3.18,  3.18,  3.18,  3.18,  3.18,  3.18,  3.18,  3.18,\n",
       "        3.18,  3.18,  3.18,  3.18,  3.18,  3.18,  3.18,  3.18,  3.18,\n",
       "        3.18,  0.  ,  3.18,  3.18,  3.18,  3.18,  0.  ,  3.18,  3.18,\n",
       "        3.18,  3.18,  3.18,  3.18,  3.18,  3.18,  3.18,  3.18,  3.18,\n",
       "        3.18,  3.18,  3.18,  3.18,  0.  ,  3.18,  3.18,  3.18,  3.18,\n",
       "        3.18,  3.18,  3.18,  3.18,  3.18,  3.18,  0.  ,  3.18,  3.18,\n",
       "        3.18,  3.18,  3.18,  3.18,  3.18,  3.18,  3.18,  3.18,  3.18,\n",
       "        3.18,  3.18,  3.18,  3.18,  3.18,  3.18,  3.18,  3.18,  3.18,\n",
       "        3.18,  3.18,  3.18,  3.18,  3.18,  3.18,  0.  ,  3.18,  3.18,\n",
       "        3.18,  3.18,  3.18,  0.  ,  3.18,  3.18,  3.18,  3.18,  3.18,\n",
       "        3.18,  3.18,  3.18,  3.18,  3.18,  3.18,  0.  ,  3.18,  3.18,\n",
       "        3.18,  3.18,  3.18,  3.18,  3.18,  3.18,  3.18,  3.18,  3.18,\n",
       "        3.18,  3.18,  3.18,  3.18,  3.18,  3.18,  3.18,  3.18,  3.18,\n",
       "        3.18,  3.18,  3.18,  3.18,  3.18,  3.18,  3.18,  3.18,  3.18,\n",
       "        0.  ,  3.18,  3.18,  3.18,  3.18,  3.18,  3.18,  3.18,  3.18,\n",
       "        3.18,  3.18,  3.18,  3.18,  3.18,  3.18,  3.18,  0.  ,  3.18,\n",
       "        3.18,  3.18,  3.18,  3.18,  3.18,  3.18,  3.18,  3.18,  3.18,\n",
       "        3.18,  3.18,  3.18,  3.18,  3.18,  3.18,  3.18,  3.18,  3.18,\n",
       "        3.18,  3.18,  3.18,  3.18,  3.18,  3.18,  3.18,  3.18,  3.18,\n",
       "        3.18,  3.18,  3.18,  3.18,  3.18,  3.18,  3.18,  3.18,  3.18,\n",
       "        3.18,  3.18,  3.18,  3.18,  3.18,  3.18,  3.18,  3.18,  3.18,\n",
       "        3.18,  3.18,  3.18,  3.18,  3.18,  3.18,  3.18,  3.18,  3.18,\n",
       "        3.18,  3.18,  3.18,  3.18,  3.18,  3.18,  3.18,  3.18,  3.18,\n",
       "        3.18,  3.18,  3.18,  3.18,  3.18,  3.18,  3.18,  3.18,  3.18,\n",
       "        3.18,  3.18,  0.  ,  3.18,  0.  ,  3.18,  3.18,  3.18,  3.18,\n",
       "        3.18,  3.18,  3.18,  3.18,  3.18,  3.18,  3.18,  3.18,  3.18,\n",
       "        3.18,  3.18,  3.18,  3.18,  3.18,  3.18,  0.  ,  3.18,  3.18,\n",
       "        3.18,  3.18,  3.18,  3.18,  3.18,  3.18,  0.  ,  0.  ,  3.18,\n",
       "        3.18,  3.18,  3.18,  0.  ,  3.18,  3.18,  3.18,  3.18,  3.18,\n",
       "        0.  ,  3.18,  3.18,  3.18,  0.  ,  3.18,  3.18,  3.18,  3.18,\n",
       "        3.18,  3.18,  3.18,  3.18,  3.18,  3.18,  3.18,  3.18,  3.18,\n",
       "        3.18,  3.18,  3.18,  3.18,  3.18,  3.18,  3.18,  3.18,  3.18,\n",
       "        3.18,  3.18,  3.18,  3.18,  3.18,  3.18,  3.18,  3.18,  3.18,\n",
       "        3.18,  3.18,  3.18,  3.18,  3.18,  3.18,  3.18,  3.18,  3.18,\n",
       "        3.18,  3.18,  3.18,  3.18,  3.18,  3.18,  0.  ])"
      ]
     },
     "execution_count": 156,
     "metadata": {},
     "output_type": "execute_result"
    }
   ],
   "source": []
  },
  {
   "cell_type": "code",
   "execution_count": 101,
   "metadata": {
    "collapsed": false
   },
   "outputs": [
    {
     "data": {
      "text/plain": [
       "['They Made Me a Criminal (1939)',\n",
       " 'Prefontaine (1997)',\n",
       " 'Marlene Dietrich: Shadow and Light (1996) ',\n",
       " 'Star Kid (1997)',\n",
       " 'Saint of Fort Washington, The (1993)']"
      ]
     },
     "execution_count": 101,
     "metadata": {},
     "output_type": "execute_result"
    }
   ],
   "source": [
    "simItems(moviesDF, 67, 5)"
   ]
  },
  {
   "cell_type": "code",
   "execution_count": 68,
   "metadata": {
    "collapsed": false
   },
   "outputs": [
    {
     "ename": "NameError",
     "evalue": "name 'curItemSimPrediction' is not defined",
     "output_type": "error",
     "traceback": [
      "\u001b[0;31m---------------------------------------------------------------------------\u001b[0m",
      "\u001b[0;31mNameError\u001b[0m                                 Traceback (most recent call last)",
      "\u001b[0;32m<ipython-input-68-13a82c2d8c75>\u001b[0m in \u001b[0;36m<module>\u001b[0;34m()\u001b[0m\n\u001b[0;32m----> 1\u001b[0;31m \u001b[0mcurItemSimPrediction\u001b[0m\u001b[0;34m\u001b[0m\u001b[0m\n\u001b[0m",
      "\u001b[0;31mNameError\u001b[0m: name 'curItemSimPrediction' is not defined"
     ]
    }
   ],
   "source": []
  },
  {
   "cell_type": "code",
   "execution_count": 143,
   "metadata": {
    "collapsed": false
   },
   "outputs": [
    {
     "name": "stdout",
     "output_type": "stream",
     "text": [
      "Populating the interactive namespace from numpy and matplotlib\n"
     ]
    }
   ],
   "source": [
    "import matplotlib.pyplot as plt\n",
    "%matplotib inline\n",
    "%pylab inline"
   ]
  },
  {
   "cell_type": "code",
   "execution_count": 144,
   "metadata": {
    "collapsed": false
   },
   "outputs": [
    {
     "data": {
      "image/png": "[encoded data removed]",
      "text/plain": [
       "<matplotlib.figure.Figure at 0x7fdf7029f630>"
      ]
     },
     "metadata": {},
     "output_type": "display_data"
    }
   ],
   "source": [
    "ratingDF.groupby('userID').size().plot(kind='bar')\n",
    "plt.show()"
   ]
  },
  {
   "cell_type": "code",
   "execution_count": 145,
   "metadata": {
    "collapsed": true
   },
   "outputs": [],
   "source": [
    "# Chosen τ = 100"
   ]
  },
  {
   "cell_type": "code",
   "execution_count": null,
   "metadata": {
    "collapsed": true
   },
   "outputs": [],
   "source": []
  }
 ],
 "metadata": {
  "anaconda-cloud": {},
  "kernelspec": {
   "display_name": "Python 3",
   "language": "python",
   "name": "python3"
  },
  "language_info": {
   "codemirror_mode": {
    "name": "ipython",
    "version": 3
   },
   "file_extension": ".py",
   "mimetype": "text/x-python",
   "name": "python",
   "nbconvert_exporter": "python",
   "pygments_lexer": "ipython3",
   "version": "3.5.2"
  },
  "widgets": {
   "state": {},
   "version": "1.1.2"
  }
 },
 "nbformat": 4,
 "nbformat_minor": 0
}
